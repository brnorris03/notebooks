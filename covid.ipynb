{
 "cells": [
  {
   "cell_type": "markdown",
   "metadata": {
    "colab_type": "text",
    "id": "view-in-github"
   },
   "source": [
    "<a href=\"https://colab.research.google.com/github/brnorris03/notebooks/blob/master/covid.ipynb\" target=\"_parent\"><img src=\"https://colab.research.google.com/assets/colab-badge.svg\" alt=\"Open In Colab\"/></a>"
   ]
  },
  {
   "cell_type": "markdown",
   "metadata": {
    "colab_type": "text",
    "id": "TrwD-AkYB4_2"
   },
   "source": [
    "#  Data explorations for COVID-19\n",
    "\n",
    "The following is just for my own amusement, no guarantees of any sort are provided. "
   ]
  },
  {
   "cell_type": "code",
   "execution_count": 5,
   "metadata": {
    "cellView": "code",
    "colab": {
     "base_uri": "https://localhost:8080/",
     "height": 235
    },
    "colab_type": "code",
    "id": "HCglWrl4QFdD",
    "outputId": "b8e514ce-5929-4a7e-e4c6-f0733f2cb81a"
   },
   "outputs": [],
   "source": [
    "import pandas as pd\n",
    "from datetime import datetime as dt\n",
    "import altair as alt\n",
    "\n",
    "pd.options.mode.chained_assignment = None\n",
    "alt.renderers.enable('html')\n",
    "\n",
    "# New York times data is summarized conveniently by county in github based on the \n",
    "# more detailed data at https://github.com/CSSEGISandData/COVID-19/tree/master/csse_covid_19_data\n",
    "url = 'https://raw.githubusercontent.com/nytimes/covid-19-data/master/us-counties.csv'\n",
    "county_data = pd.read_csv(url)"
   ]
  },
  {
   "cell_type": "code",
   "execution_count": 48,
   "metadata": {
    "colab": {},
    "colab_type": "code",
    "id": "5KmXpSy5Tb5k"
   },
   "outputs": [],
   "source": [
    "def plot(county, state):\n",
    "  charts = []\n",
    "  for daily in (True, False):\n",
    "    if daily:\n",
    "      vals = ['cases-daily','deaths-daily']\n",
    "      daily_or_total = 'Daily'\n",
    "      angle=0\n",
    "    else:\n",
    "      daily_or_total = 'Total'\n",
    "      vals = ['cases','deaths']\n",
    "      angle=270\n",
    "    thecounty = county_data[(county_data.state == state) & (county_data.county == county)]\n",
    "    thecounty['realdate'] = pd.to_datetime(thecounty['date'])\n",
    "    thecounty = thecounty.set_index(['realdate'])\n",
    "    thecounty = thecounty.loc['2020-03-01':] # not much data before then\n",
    "    thecounty['cases-daily'] = thecounty['cases'].shift(-1) - thecounty['cases'] \n",
    "    thecounty['deaths-daily'] = thecounty['deaths'].shift(-1) - thecounty['deaths'] \n",
    "    \n",
    "    # Shorten dates\n",
    "    thecounty['month-day']=thecounty.date.str.slice(6)\n",
    "\n",
    "    # Plot daily cases and deaths\n",
    "    base = alt.Chart(thecounty).mark_bar().transform_fold(\n",
    "        fold=vals, \n",
    "        as_=['variable', 'value']\n",
    "    ).encode(\n",
    "        x='month-day',\n",
    "        y='max(value):Q',\n",
    "        color=alt.Color('variable:N', scale=alt.Scale(scheme='paired')),\n",
    "        tooltip=['cases-daily', 'deaths-daily', 'cases', 'deaths']\n",
    "    ).properties(width=900, title='%s County %s COVID-19 %s Cases and Deaths' % (county, state, daily_or_total))\n",
    "    if daily: x,y=-5,-8\n",
    "    else: x,y=8,0\n",
    "    text1 = base.mark_text(align='left',baseline='middle',dx=x,dy=y,angle=angle,fontSize=8,binSpacing=1).encode(\n",
    "        y=vals[1],text=vals[1],color=alt.value('black')\n",
    "        )\n",
    "    text2 = base.mark_text(align='left',baseline='middle',dx=x,dy=y,angle=angle,fontSize=8,binSpacing=1).encode(\n",
    "        y=vals[0],text=vals[0],color=alt.value('black')\n",
    "        )\n",
    "\n",
    "    newchart = base.interactive() + text1 + text2\n",
    "    charts.append(newchart)\n",
    "\n",
    "  alt.vconcat(charts[0],charts[1]).save('%s.html'% county)\n",
    "  return charts"
   ]
  },
  {
   "cell_type": "code",
   "execution_count": 49,
   "metadata": {
    "colab": {
     "base_uri": "https://localhost:8080/",
     "height": 417
    },
    "colab_type": "code",
    "id": "YJc6oc7EWxm5",
    "outputId": "8a38cb8b-ae46-48fa-d5c7-c8b027498c1f"
   },
   "outputs": [
    {
     "data": {
      "text/html": [
       "\n",
       "<div id=\"altair-viz-2c440e8fff9248fd9485dcae2a8ea99c\"></div>\n",
       "<script type=\"text/javascript\">\n",
       "  (function(spec, embedOpt){\n",
       "    let outputDiv = document.currentScript.previousElementSibling;\n",
       "    if (outputDiv.id !== \"altair-viz-2c440e8fff9248fd9485dcae2a8ea99c\") {\n",
       "      outputDiv = document.getElementById(\"altair-viz-2c440e8fff9248fd9485dcae2a8ea99c\");\n",
       "    }\n",
       "    const paths = {\n",
       "      \"vega\": \"https://cdn.jsdelivr.net/npm//vega@5?noext\",\n",
       "      \"vega-lib\": \"https://cdn.jsdelivr.net/npm//vega-lib?noext\",\n",
       "      \"vega-lite\": \"https://cdn.jsdelivr.net/npm//vega-lite@4.8.1?noext\",\n",
       "      \"vega-embed\": \"https://cdn.jsdelivr.net/npm//vega-embed@6?noext\",\n",
       "    };\n",
       "\n",
       "    function loadScript(lib) {\n",
       "      return new Promise(function(resolve, reject) {\n",
       "        var s = document.createElement('script');\n",
       "        s.src = paths[lib];\n",
       "        s.async = true;\n",
       "        s.onload = () => resolve(paths[lib]);\n",
       "        s.onerror = () => reject(`Error loading script: ${paths[lib]}`);\n",
       "        document.getElementsByTagName(\"head\")[0].appendChild(s);\n",
       "      });\n",
       "    }\n",
       "\n",
       "    function showError(err) {\n",
       "      outputDiv.innerHTML = `<div class=\"error\" style=\"color:red;\">${err}</div>`;\n",
       "      throw err;\n",
       "    }\n",
       "\n",
       "    function displayChart(vegaEmbed) {\n",
       "      vegaEmbed(outputDiv, spec, embedOpt)\n",
       "        .catch(err => showError(`Javascript Error: ${err.message}<br>This usually means there's a typo in your chart specification. See the javascript console for the full traceback.`));\n",
       "    }\n",
       "\n",
       "    if(typeof define === \"function\" && define.amd) {\n",
       "      requirejs.config({paths});\n",
       "      require([\"vega-embed\"], displayChart, err => showError(`Error loading script: ${err.message}`));\n",
       "    } else if (typeof vegaEmbed === \"function\") {\n",
       "      displayChart(vegaEmbed);\n",
       "    } else {\n",
       "      loadScript(\"vega\")\n",
       "        .then(() => loadScript(\"vega-lite\"))\n",
       "        .then(() => loadScript(\"vega-embed\"))\n",
       "        .catch(showError)\n",
       "        .then(() => displayChart(vegaEmbed));\n",
       "    }\n",
       "  })({\"config\": {\"view\": {\"continuousWidth\": 400, \"continuousHeight\": 300}}, \"layer\": [{\"mark\": \"bar\", \"encoding\": {\"color\": {\"type\": \"nominal\", \"field\": \"variable\", \"scale\": {\"scheme\": \"paired\"}}, \"tooltip\": [{\"type\": \"quantitative\", \"field\": \"cases-daily\"}, {\"type\": \"quantitative\", \"field\": \"deaths-daily\"}, {\"type\": \"quantitative\", \"field\": \"cases\"}, {\"type\": \"quantitative\", \"field\": \"deaths\"}], \"x\": {\"type\": \"nominal\", \"field\": \"month-day\"}, \"y\": {\"type\": \"quantitative\", \"aggregate\": \"max\", \"field\": \"value\"}}, \"selection\": {\"selector060\": {\"type\": \"interval\", \"bind\": \"scales\", \"encodings\": [\"x\", \"y\"]}}, \"title\": \"Orange County California COVID-19 Total Cases and Deaths\", \"transform\": [{\"fold\": [\"cases\", \"deaths\"], \"as\": [\"variable\", \"value\"]}], \"width\": 900}, {\"mark\": {\"type\": \"text\", \"align\": \"left\", \"angle\": 270, \"baseline\": \"middle\", \"binSpacing\": 1, \"dx\": 8, \"dy\": 0, \"fontSize\": 8}, \"encoding\": {\"color\": {\"value\": \"black\"}, \"text\": {\"type\": \"quantitative\", \"field\": \"deaths\"}, \"tooltip\": [{\"type\": \"quantitative\", \"field\": \"cases-daily\"}, {\"type\": \"quantitative\", \"field\": \"deaths-daily\"}, {\"type\": \"quantitative\", \"field\": \"cases\"}, {\"type\": \"quantitative\", \"field\": \"deaths\"}], \"x\": {\"type\": \"nominal\", \"field\": \"month-day\"}, \"y\": {\"type\": \"quantitative\", \"field\": \"deaths\"}}, \"title\": \"Orange County California COVID-19 Total Cases and Deaths\", \"transform\": [{\"fold\": [\"cases\", \"deaths\"], \"as\": [\"variable\", \"value\"]}], \"width\": 900}, {\"mark\": {\"type\": \"text\", \"align\": \"left\", \"angle\": 270, \"baseline\": \"middle\", \"binSpacing\": 1, \"dx\": 8, \"dy\": 0, \"fontSize\": 8}, \"encoding\": {\"color\": {\"value\": \"black\"}, \"text\": {\"type\": \"quantitative\", \"field\": \"cases\"}, \"tooltip\": [{\"type\": \"quantitative\", \"field\": \"cases-daily\"}, {\"type\": \"quantitative\", \"field\": \"deaths-daily\"}, {\"type\": \"quantitative\", \"field\": \"cases\"}, {\"type\": \"quantitative\", \"field\": \"deaths\"}], \"x\": {\"type\": \"nominal\", \"field\": \"month-day\"}, \"y\": {\"type\": \"quantitative\", \"field\": \"cases\"}}, \"title\": \"Orange County California COVID-19 Total Cases and Deaths\", \"transform\": [{\"fold\": [\"cases\", \"deaths\"], \"as\": [\"variable\", \"value\"]}], \"width\": 900}], \"data\": {\"name\": \"data-d30964e8d8d07b16fcbb6affa6cde342\"}, \"$schema\": \"https://vega.github.io/schema/vega-lite/v4.8.1.json\", \"datasets\": {\"data-d30964e8d8d07b16fcbb6affa6cde342\": [{\"date\": \"2020-03-01\", \"county\": \"Orange\", \"state\": \"California\", \"fips\": 6059.0, \"cases\": 1, \"deaths\": 0, \"cases-daily\": 0.0, \"deaths-daily\": 0.0, \"month-day\": \"3-01\"}, {\"date\": \"2020-03-02\", \"county\": \"Orange\", \"state\": \"California\", \"fips\": 6059.0, \"cases\": 1, \"deaths\": 0, \"cases-daily\": 2.0, \"deaths-daily\": 0.0, \"month-day\": \"3-02\"}, {\"date\": \"2020-03-03\", \"county\": \"Orange\", \"state\": \"California\", \"fips\": 6059.0, \"cases\": 3, \"deaths\": 0, \"cases-daily\": 0.0, \"deaths-daily\": 0.0, \"month-day\": \"3-03\"}, {\"date\": \"2020-03-04\", \"county\": \"Orange\", \"state\": \"California\", \"fips\": 6059.0, \"cases\": 3, \"deaths\": 0, \"cases-daily\": 0.0, \"deaths-daily\": 0.0, \"month-day\": \"3-04\"}, {\"date\": \"2020-03-05\", \"county\": \"Orange\", \"state\": \"California\", \"fips\": 6059.0, \"cases\": 3, \"deaths\": 0, \"cases-daily\": 0.0, \"deaths-daily\": 0.0, \"month-day\": \"3-05\"}, {\"date\": \"2020-03-06\", \"county\": \"Orange\", \"state\": \"California\", \"fips\": 6059.0, \"cases\": 3, \"deaths\": 0, \"cases-daily\": 0.0, \"deaths-daily\": 0.0, \"month-day\": \"3-06\"}, {\"date\": \"2020-03-07\", \"county\": \"Orange\", \"state\": \"California\", \"fips\": 6059.0, \"cases\": 3, \"deaths\": 0, \"cases-daily\": 0.0, \"deaths-daily\": 0.0, \"month-day\": \"3-07\"}, {\"date\": \"2020-03-08\", \"county\": \"Orange\", \"state\": \"California\", \"fips\": 6059.0, \"cases\": 3, \"deaths\": 0, \"cases-daily\": 2.0, \"deaths-daily\": 0.0, \"month-day\": \"3-08\"}, {\"date\": \"2020-03-09\", \"county\": \"Orange\", \"state\": \"California\", \"fips\": 6059.0, \"cases\": 5, \"deaths\": 0, \"cases-daily\": 0.0, \"deaths-daily\": 0.0, \"month-day\": \"3-09\"}, {\"date\": \"2020-03-10\", \"county\": \"Orange\", \"state\": \"California\", \"fips\": 6059.0, \"cases\": 5, \"deaths\": 0, \"cases-daily\": 1.0, \"deaths-daily\": 0.0, \"month-day\": \"3-10\"}, {\"date\": \"2020-03-11\", \"county\": \"Orange\", \"state\": \"California\", \"fips\": 6059.0, \"cases\": 6, \"deaths\": 0, \"cases-daily\": 0.0, \"deaths-daily\": 0.0, \"month-day\": \"3-11\"}, {\"date\": \"2020-03-12\", \"county\": \"Orange\", \"state\": \"California\", \"fips\": 6059.0, \"cases\": 6, \"deaths\": 0, \"cases-daily\": 7.0, \"deaths-daily\": 0.0, \"month-day\": \"3-12\"}, {\"date\": \"2020-03-13\", \"county\": \"Orange\", \"state\": \"California\", \"fips\": 6059.0, \"cases\": 13, \"deaths\": 0, \"cases-daily\": 1.0, \"deaths-daily\": 0.0, \"month-day\": \"3-13\"}, {\"date\": \"2020-03-14\", \"county\": \"Orange\", \"state\": \"California\", \"fips\": 6059.0, \"cases\": 14, \"deaths\": 0, \"cases-daily\": 3.0, \"deaths-daily\": 0.0, \"month-day\": \"3-14\"}, {\"date\": \"2020-03-15\", \"county\": \"Orange\", \"state\": \"California\", \"fips\": 6059.0, \"cases\": 17, \"deaths\": 0, \"cases-daily\": 5.0, \"deaths-daily\": 0.0, \"month-day\": \"3-15\"}, {\"date\": \"2020-03-16\", \"county\": \"Orange\", \"state\": \"California\", \"fips\": 6059.0, \"cases\": 22, \"deaths\": 0, \"cases-daily\": 7.0, \"deaths-daily\": 0.0, \"month-day\": \"3-16\"}, {\"date\": \"2020-03-17\", \"county\": \"Orange\", \"state\": \"California\", \"fips\": 6059.0, \"cases\": 29, \"deaths\": 0, \"cases-daily\": 13.0, \"deaths-daily\": 0.0, \"month-day\": \"3-17\"}, {\"date\": \"2020-03-18\", \"county\": \"Orange\", \"state\": \"California\", \"fips\": 6059.0, \"cases\": 42, \"deaths\": 0, \"cases-daily\": 11.0, \"deaths-daily\": 0.0, \"month-day\": \"3-18\"}, {\"date\": \"2020-03-19\", \"county\": \"Orange\", \"state\": \"California\", \"fips\": 6059.0, \"cases\": 53, \"deaths\": 0, \"cases-daily\": 12.0, \"deaths-daily\": 0.0, \"month-day\": \"3-19\"}, {\"date\": \"2020-03-20\", \"county\": \"Orange\", \"state\": \"California\", \"fips\": 6059.0, \"cases\": 65, \"deaths\": 0, \"cases-daily\": 13.0, \"deaths-daily\": 0.0, \"month-day\": \"3-20\"}, {\"date\": \"2020-03-21\", \"county\": \"Orange\", \"state\": \"California\", \"fips\": 6059.0, \"cases\": 78, \"deaths\": 0, \"cases-daily\": 17.0, \"deaths-daily\": 0.0, \"month-day\": \"3-21\"}, {\"date\": \"2020-03-22\", \"county\": \"Orange\", \"state\": \"California\", \"fips\": 6059.0, \"cases\": 95, \"deaths\": 0, \"cases-daily\": 30.0, \"deaths-daily\": 0.0, \"month-day\": \"3-22\"}, {\"date\": \"2020-03-23\", \"county\": \"Orange\", \"state\": \"California\", \"fips\": 6059.0, \"cases\": 125, \"deaths\": 0, \"cases-daily\": 27.0, \"deaths-daily\": 0.0, \"month-day\": \"3-23\"}, {\"date\": \"2020-03-24\", \"county\": \"Orange\", \"state\": \"California\", \"fips\": 6059.0, \"cases\": 152, \"deaths\": 0, \"cases-daily\": 35.0, \"deaths-daily\": 1.0, \"month-day\": \"3-24\"}, {\"date\": \"2020-03-25\", \"county\": \"Orange\", \"state\": \"California\", \"fips\": 6059.0, \"cases\": 187, \"deaths\": 1, \"cases-daily\": 69.0, \"deaths-daily\": 0.0, \"month-day\": \"3-25\"}, {\"date\": \"2020-03-26\", \"county\": \"Orange\", \"state\": \"California\", \"fips\": 6059.0, \"cases\": 256, \"deaths\": 1, \"cases-daily\": 65.0, \"deaths-daily\": 2.0, \"month-day\": \"3-26\"}, {\"date\": \"2020-03-27\", \"county\": \"Orange\", \"state\": \"California\", \"fips\": 6059.0, \"cases\": 321, \"deaths\": 3, \"cases-daily\": 0.0, \"deaths-daily\": 0.0, \"month-day\": \"3-27\"}, {\"date\": \"2020-03-28\", \"county\": \"Orange\", \"state\": \"California\", \"fips\": 6059.0, \"cases\": 321, \"deaths\": 3, \"cases-daily\": 110.0, \"deaths-daily\": 1.0, \"month-day\": \"3-28\"}, {\"date\": \"2020-03-29\", \"county\": \"Orange\", \"state\": \"California\", \"fips\": 6059.0, \"cases\": 431, \"deaths\": 4, \"cases-daily\": 33.0, \"deaths-daily\": 0.0, \"month-day\": \"3-29\"}, {\"date\": \"2020-03-30\", \"county\": \"Orange\", \"state\": \"California\", \"fips\": 6059.0, \"cases\": 464, \"deaths\": 4, \"cases-daily\": 38.0, \"deaths-daily\": 3.0, \"month-day\": \"3-30\"}, {\"date\": \"2020-03-31\", \"county\": \"Orange\", \"state\": \"California\", \"fips\": 6059.0, \"cases\": 502, \"deaths\": 7, \"cases-daily\": 104.0, \"deaths-daily\": 3.0, \"month-day\": \"3-31\"}, {\"date\": \"2020-04-01\", \"county\": \"Orange\", \"state\": \"California\", \"fips\": 6059.0, \"cases\": 606, \"deaths\": 10, \"cases-daily\": 50.0, \"deaths-daily\": 3.0, \"month-day\": \"4-01\"}, {\"date\": \"2020-04-02\", \"county\": \"Orange\", \"state\": \"California\", \"fips\": 6059.0, \"cases\": 656, \"deaths\": 13, \"cases-daily\": 55.0, \"deaths-daily\": 0.0, \"month-day\": \"4-02\"}, {\"date\": \"2020-04-03\", \"county\": \"Orange\", \"state\": \"California\", \"fips\": 6059.0, \"cases\": 711, \"deaths\": 13, \"cases-daily\": 75.0, \"deaths-daily\": 1.0, \"month-day\": \"4-03\"}, {\"date\": \"2020-04-04\", \"county\": \"Orange\", \"state\": \"California\", \"fips\": 6059.0, \"cases\": 786, \"deaths\": 14, \"cases-daily\": 48.0, \"deaths-daily\": 0.0, \"month-day\": \"4-04\"}, {\"date\": \"2020-04-05\", \"county\": \"Orange\", \"state\": \"California\", \"fips\": 6059.0, \"cases\": 834, \"deaths\": 14, \"cases-daily\": 48.0, \"deaths-daily\": 0.0, \"month-day\": \"4-05\"}, {\"date\": \"2020-04-06\", \"county\": \"Orange\", \"state\": \"California\", \"fips\": 6059.0, \"cases\": 882, \"deaths\": 14, \"cases-daily\": 49.0, \"deaths-daily\": 1.0, \"month-day\": \"4-06\"}, {\"date\": \"2020-04-07\", \"county\": \"Orange\", \"state\": \"California\", \"fips\": 6059.0, \"cases\": 931, \"deaths\": 15, \"cases-daily\": 85.0, \"deaths-daily\": 2.0, \"month-day\": \"4-07\"}, {\"date\": \"2020-04-08\", \"county\": \"Orange\", \"state\": \"California\", \"fips\": 6059.0, \"cases\": 1016, \"deaths\": 17, \"cases-daily\": 63.0, \"deaths-daily\": 0.0, \"month-day\": \"4-08\"}, {\"date\": \"2020-04-09\", \"county\": \"Orange\", \"state\": \"California\", \"fips\": 6059.0, \"cases\": 1079, \"deaths\": 17, \"cases-daily\": 59.0, \"deaths-daily\": 0.0, \"month-day\": \"4-09\"}, {\"date\": \"2020-04-10\", \"county\": \"Orange\", \"state\": \"California\", \"fips\": 6059.0, \"cases\": 1138, \"deaths\": 17, \"cases-daily\": 83.0, \"deaths-daily\": 1.0, \"month-day\": \"4-10\"}, {\"date\": \"2020-04-11\", \"county\": \"Orange\", \"state\": \"California\", \"fips\": 6059.0, \"cases\": 1221, \"deaths\": 18, \"cases-daily\": 56.0, \"deaths-daily\": 1.0, \"month-day\": \"4-11\"}, {\"date\": \"2020-04-12\", \"county\": \"Orange\", \"state\": \"California\", \"fips\": 6059.0, \"cases\": 1277, \"deaths\": 19, \"cases-daily\": 6.0, \"deaths-daily\": 0.0, \"month-day\": \"4-12\"}, {\"date\": \"2020-04-13\", \"county\": \"Orange\", \"state\": \"California\", \"fips\": 6059.0, \"cases\": 1283, \"deaths\": 19, \"cases-daily\": 16.0, \"deaths-daily\": 0.0, \"month-day\": \"4-13\"}, {\"date\": \"2020-04-14\", \"county\": \"Orange\", \"state\": \"California\", \"fips\": 6059.0, \"cases\": 1299, \"deaths\": 19, \"cases-daily\": 77.0, \"deaths-daily\": 3.0, \"month-day\": \"4-14\"}, {\"date\": \"2020-04-15\", \"county\": \"Orange\", \"state\": \"California\", \"fips\": 6059.0, \"cases\": 1376, \"deaths\": 22, \"cases-daily\": 49.0, \"deaths-daily\": 3.0, \"month-day\": \"4-15\"}, {\"date\": \"2020-04-16\", \"county\": \"Orange\", \"state\": \"California\", \"fips\": 6059.0, \"cases\": 1425, \"deaths\": 25, \"cases-daily\": 76.0, \"deaths-daily\": 3.0, \"month-day\": \"4-16\"}, {\"date\": \"2020-04-17\", \"county\": \"Orange\", \"state\": \"California\", \"fips\": 6059.0, \"cases\": 1501, \"deaths\": 28, \"cases-daily\": 55.0, \"deaths-daily\": 4.0, \"month-day\": \"4-17\"}, {\"date\": \"2020-04-18\", \"county\": \"Orange\", \"state\": \"California\", \"fips\": 6059.0, \"cases\": 1556, \"deaths\": 32, \"cases-daily\": 80.0, \"deaths-daily\": 0.0, \"month-day\": \"4-18\"}, {\"date\": \"2020-04-19\", \"county\": \"Orange\", \"state\": \"California\", \"fips\": 6059.0, \"cases\": 1636, \"deaths\": 32, \"cases-daily\": 40.0, \"deaths-daily\": 1.0, \"month-day\": \"4-19\"}, {\"date\": \"2020-04-20\", \"county\": \"Orange\", \"state\": \"California\", \"fips\": 6059.0, \"cases\": 1676, \"deaths\": 33, \"cases-daily\": 15.0, \"deaths-daily\": 0.0, \"month-day\": \"4-20\"}, {\"date\": \"2020-04-21\", \"county\": \"Orange\", \"state\": \"California\", \"fips\": 6059.0, \"cases\": 1691, \"deaths\": 33, \"cases-daily\": 62.0, \"deaths-daily\": 1.0, \"month-day\": \"4-21\"}, {\"date\": \"2020-04-22\", \"county\": \"Orange\", \"state\": \"California\", \"fips\": 6059.0, \"cases\": 1753, \"deaths\": 34, \"cases-daily\": 74.0, \"deaths-daily\": 2.0, \"month-day\": \"4-22\"}, {\"date\": \"2020-04-23\", \"county\": \"Orange\", \"state\": \"California\", \"fips\": 6059.0, \"cases\": 1827, \"deaths\": 36, \"cases-daily\": 18.0, \"deaths-daily\": 0.0, \"month-day\": \"4-23\"}, {\"date\": \"2020-04-24\", \"county\": \"Orange\", \"state\": \"California\", \"fips\": 6059.0, \"cases\": 1845, \"deaths\": 36, \"cases-daily\": 124.0, \"deaths-daily\": 2.0, \"month-day\": \"4-24\"}, {\"date\": \"2020-04-25\", \"county\": \"Orange\", \"state\": \"California\", \"fips\": 6059.0, \"cases\": 1969, \"deaths\": 38, \"cases-daily\": 105.0, \"deaths-daily\": 1.0, \"month-day\": \"4-25\"}, {\"date\": \"2020-04-26\", \"county\": \"Orange\", \"state\": \"California\", \"fips\": 6059.0, \"cases\": 2074, \"deaths\": 39, \"cases-daily\": 52.0, \"deaths-daily\": 1.0, \"month-day\": \"4-26\"}, {\"date\": \"2020-04-27\", \"county\": \"Orange\", \"state\": \"California\", \"fips\": 6059.0, \"cases\": 2126, \"deaths\": 40, \"cases-daily\": 72.0, \"deaths-daily\": 2.0, \"month-day\": \"4-27\"}, {\"date\": \"2020-04-28\", \"county\": \"Orange\", \"state\": \"California\", \"fips\": 6059.0, \"cases\": 2198, \"deaths\": 42, \"cases-daily\": 126.0, \"deaths-daily\": 2.0, \"month-day\": \"4-28\"}, {\"date\": \"2020-04-29\", \"county\": \"Orange\", \"state\": \"California\", \"fips\": 6059.0, \"cases\": 2324, \"deaths\": 44, \"cases-daily\": 97.0, \"deaths-daily\": 1.0, \"month-day\": \"4-29\"}, {\"date\": \"2020-04-30\", \"county\": \"Orange\", \"state\": \"California\", \"fips\": 6059.0, \"cases\": 2421, \"deaths\": 45, \"cases-daily\": 170.0, \"deaths-daily\": 5.0, \"month-day\": \"4-30\"}, {\"date\": \"2020-05-01\", \"county\": \"Orange\", \"state\": \"California\", \"fips\": 6059.0, \"cases\": 2591, \"deaths\": 50, \"cases-daily\": 69.0, \"deaths-daily\": 2.0, \"month-day\": \"5-01\"}, {\"date\": \"2020-05-02\", \"county\": \"Orange\", \"state\": \"California\", \"fips\": 6059.0, \"cases\": 2660, \"deaths\": 52, \"cases-daily\": 114.0, \"deaths-daily\": 0.0, \"month-day\": \"5-02\"}, {\"date\": \"2020-05-03\", \"county\": \"Orange\", \"state\": \"California\", \"fips\": 6059.0, \"cases\": 2774, \"deaths\": 52, \"cases-daily\": 85.0, \"deaths-daily\": 5.0, \"month-day\": \"5-03\"}, {\"date\": \"2020-05-04\", \"county\": \"Orange\", \"state\": \"California\", \"fips\": 6059.0, \"cases\": 2859, \"deaths\": 57, \"cases-daily\": 72.0, \"deaths-daily\": 4.0, \"month-day\": \"5-04\"}, {\"date\": \"2020-05-05\", \"county\": \"Orange\", \"state\": \"California\", \"fips\": 6059.0, \"cases\": 2931, \"deaths\": 61, \"cases-daily\": 110.0, \"deaths-daily\": 4.0, \"month-day\": \"5-05\"}, {\"date\": \"2020-05-06\", \"county\": \"Orange\", \"state\": \"California\", \"fips\": 6059.0, \"cases\": 3041, \"deaths\": 65, \"cases-daily\": 115.0, \"deaths-daily\": 1.0, \"month-day\": \"5-06\"}, {\"date\": \"2020-05-07\", \"county\": \"Orange\", \"state\": \"California\", \"fips\": 6059.0, \"cases\": 3156, \"deaths\": 66, \"cases-daily\": 127.0, \"deaths-daily\": 5.0, \"month-day\": \"5-07\"}, {\"date\": \"2020-05-08\", \"county\": \"Orange\", \"state\": \"California\", \"fips\": 6059.0, \"cases\": 3283, \"deaths\": 71, \"cases-daily\": 112.0, \"deaths-daily\": 3.0, \"month-day\": \"5-08\"}, {\"date\": \"2020-05-09\", \"county\": \"Orange\", \"state\": \"California\", \"fips\": 6059.0, \"cases\": 3395, \"deaths\": 74, \"cases-daily\": 111.0, \"deaths-daily\": 2.0, \"month-day\": \"5-09\"}, {\"date\": \"2020-05-10\", \"county\": \"Orange\", \"state\": \"California\", \"fips\": 6059.0, \"cases\": 3506, \"deaths\": 76, \"cases-daily\": 121.0, \"deaths-daily\": 0.0, \"month-day\": \"5-10\"}, {\"date\": \"2020-05-11\", \"county\": \"Orange\", \"state\": \"California\", \"fips\": 6059.0, \"cases\": 3627, \"deaths\": 76, \"cases-daily\": 72.0, \"deaths-daily\": 2.0, \"month-day\": \"5-11\"}, {\"date\": \"2020-05-12\", \"county\": \"Orange\", \"state\": \"California\", \"fips\": 6059.0, \"cases\": 3699, \"deaths\": 78, \"cases-daily\": 144.0, \"deaths-daily\": 2.0, \"month-day\": \"5-12\"}, {\"date\": \"2020-05-13\", \"county\": \"Orange\", \"state\": \"California\", \"fips\": 6059.0, \"cases\": 3843, \"deaths\": 80, \"cases-daily\": 182.0, \"deaths-daily\": 0.0, \"month-day\": \"5-13\"}, {\"date\": \"2020-05-14\", \"county\": \"Orange\", \"state\": \"California\", \"fips\": 6059.0, \"cases\": 4025, \"deaths\": 80, \"cases-daily\": 138.0, \"deaths-daily\": 4.0, \"month-day\": \"5-14\"}, {\"date\": \"2020-05-15\", \"county\": \"Orange\", \"state\": \"California\", \"fips\": 6059.0, \"cases\": 4163, \"deaths\": 84, \"cases-daily\": 118.0, \"deaths-daily\": 2.0, \"month-day\": \"5-15\"}, {\"date\": \"2020-05-16\", \"county\": \"Orange\", \"state\": \"California\", \"fips\": 6059.0, \"cases\": 4281, \"deaths\": 86, \"cases-daily\": null, \"deaths-daily\": null, \"month-day\": \"5-16\"}]}}, {\"mode\": \"vega-lite\"});\n",
       "</script>"
      ],
      "text/plain": [
       "alt.LayerChart(...)"
      ]
     },
     "execution_count": 49,
     "metadata": {},
     "output_type": "execute_result"
    }
   ],
   "source": [
    "plot('Orange','California')[1]"
   ]
  },
  {
   "cell_type": "code",
   "execution_count": 50,
   "metadata": {},
   "outputs": [
    {
     "data": {
      "text/html": [
       "\n",
       "<div id=\"altair-viz-693c194219ef4a31b87d2346a6804ed6\"></div>\n",
       "<script type=\"text/javascript\">\n",
       "  (function(spec, embedOpt){\n",
       "    let outputDiv = document.currentScript.previousElementSibling;\n",
       "    if (outputDiv.id !== \"altair-viz-693c194219ef4a31b87d2346a6804ed6\") {\n",
       "      outputDiv = document.getElementById(\"altair-viz-693c194219ef4a31b87d2346a6804ed6\");\n",
       "    }\n",
       "    const paths = {\n",
       "      \"vega\": \"https://cdn.jsdelivr.net/npm//vega@5?noext\",\n",
       "      \"vega-lib\": \"https://cdn.jsdelivr.net/npm//vega-lib?noext\",\n",
       "      \"vega-lite\": \"https://cdn.jsdelivr.net/npm//vega-lite@4.8.1?noext\",\n",
       "      \"vega-embed\": \"https://cdn.jsdelivr.net/npm//vega-embed@6?noext\",\n",
       "    };\n",
       "\n",
       "    function loadScript(lib) {\n",
       "      return new Promise(function(resolve, reject) {\n",
       "        var s = document.createElement('script');\n",
       "        s.src = paths[lib];\n",
       "        s.async = true;\n",
       "        s.onload = () => resolve(paths[lib]);\n",
       "        s.onerror = () => reject(`Error loading script: ${paths[lib]}`);\n",
       "        document.getElementsByTagName(\"head\")[0].appendChild(s);\n",
       "      });\n",
       "    }\n",
       "\n",
       "    function showError(err) {\n",
       "      outputDiv.innerHTML = `<div class=\"error\" style=\"color:red;\">${err}</div>`;\n",
       "      throw err;\n",
       "    }\n",
       "\n",
       "    function displayChart(vegaEmbed) {\n",
       "      vegaEmbed(outputDiv, spec, embedOpt)\n",
       "        .catch(err => showError(`Javascript Error: ${err.message}<br>This usually means there's a typo in your chart specification. See the javascript console for the full traceback.`));\n",
       "    }\n",
       "\n",
       "    if(typeof define === \"function\" && define.amd) {\n",
       "      requirejs.config({paths});\n",
       "      require([\"vega-embed\"], displayChart, err => showError(`Error loading script: ${err.message}`));\n",
       "    } else if (typeof vegaEmbed === \"function\") {\n",
       "      displayChart(vegaEmbed);\n",
       "    } else {\n",
       "      loadScript(\"vega\")\n",
       "        .then(() => loadScript(\"vega-lite\"))\n",
       "        .then(() => loadScript(\"vega-embed\"))\n",
       "        .catch(showError)\n",
       "        .then(() => displayChart(vegaEmbed));\n",
       "    }\n",
       "  })({\"config\": {\"view\": {\"continuousWidth\": 400, \"continuousHeight\": 300}}, \"layer\": [{\"mark\": \"bar\", \"encoding\": {\"color\": {\"type\": \"nominal\", \"field\": \"variable\", \"scale\": {\"scheme\": \"paired\"}}, \"tooltip\": [{\"type\": \"quantitative\", \"field\": \"cases-daily\"}, {\"type\": \"quantitative\", \"field\": \"deaths-daily\"}, {\"type\": \"quantitative\", \"field\": \"cases\"}, {\"type\": \"quantitative\", \"field\": \"deaths\"}], \"x\": {\"type\": \"nominal\", \"field\": \"month-day\"}, \"y\": {\"type\": \"quantitative\", \"aggregate\": \"max\", \"field\": \"value\"}}, \"selection\": {\"selector061\": {\"type\": \"interval\", \"bind\": \"scales\", \"encodings\": [\"x\", \"y\"]}}, \"title\": \"Orange County California COVID-19 Daily Cases and Deaths\", \"transform\": [{\"fold\": [\"cases-daily\", \"deaths-daily\"], \"as\": [\"variable\", \"value\"]}], \"width\": 900}, {\"mark\": {\"type\": \"text\", \"align\": \"left\", \"angle\": 0, \"baseline\": \"middle\", \"binSpacing\": 1, \"dx\": -5, \"dy\": -8, \"fontSize\": 8}, \"encoding\": {\"color\": {\"value\": \"black\"}, \"text\": {\"type\": \"quantitative\", \"field\": \"deaths-daily\"}, \"tooltip\": [{\"type\": \"quantitative\", \"field\": \"cases-daily\"}, {\"type\": \"quantitative\", \"field\": \"deaths-daily\"}, {\"type\": \"quantitative\", \"field\": \"cases\"}, {\"type\": \"quantitative\", \"field\": \"deaths\"}], \"x\": {\"type\": \"nominal\", \"field\": \"month-day\"}, \"y\": {\"type\": \"quantitative\", \"field\": \"deaths-daily\"}}, \"title\": \"Orange County California COVID-19 Daily Cases and Deaths\", \"transform\": [{\"fold\": [\"cases-daily\", \"deaths-daily\"], \"as\": [\"variable\", \"value\"]}], \"width\": 900}, {\"mark\": {\"type\": \"text\", \"align\": \"left\", \"angle\": 0, \"baseline\": \"middle\", \"binSpacing\": 1, \"dx\": -5, \"dy\": -8, \"fontSize\": 8}, \"encoding\": {\"color\": {\"value\": \"black\"}, \"text\": {\"type\": \"quantitative\", \"field\": \"cases-daily\"}, \"tooltip\": [{\"type\": \"quantitative\", \"field\": \"cases-daily\"}, {\"type\": \"quantitative\", \"field\": \"deaths-daily\"}, {\"type\": \"quantitative\", \"field\": \"cases\"}, {\"type\": \"quantitative\", \"field\": \"deaths\"}], \"x\": {\"type\": \"nominal\", \"field\": \"month-day\"}, \"y\": {\"type\": \"quantitative\", \"field\": \"cases-daily\"}}, \"title\": \"Orange County California COVID-19 Daily Cases and Deaths\", \"transform\": [{\"fold\": [\"cases-daily\", \"deaths-daily\"], \"as\": [\"variable\", \"value\"]}], \"width\": 900}], \"data\": {\"name\": \"data-d30964e8d8d07b16fcbb6affa6cde342\"}, \"$schema\": \"https://vega.github.io/schema/vega-lite/v4.8.1.json\", \"datasets\": {\"data-d30964e8d8d07b16fcbb6affa6cde342\": [{\"date\": \"2020-03-01\", \"county\": \"Orange\", \"state\": \"California\", \"fips\": 6059.0, \"cases\": 1, \"deaths\": 0, \"cases-daily\": 0.0, \"deaths-daily\": 0.0, \"month-day\": \"3-01\"}, {\"date\": \"2020-03-02\", \"county\": \"Orange\", \"state\": \"California\", \"fips\": 6059.0, \"cases\": 1, \"deaths\": 0, \"cases-daily\": 2.0, \"deaths-daily\": 0.0, \"month-day\": \"3-02\"}, {\"date\": \"2020-03-03\", \"county\": \"Orange\", \"state\": \"California\", \"fips\": 6059.0, \"cases\": 3, \"deaths\": 0, \"cases-daily\": 0.0, \"deaths-daily\": 0.0, \"month-day\": \"3-03\"}, {\"date\": \"2020-03-04\", \"county\": \"Orange\", \"state\": \"California\", \"fips\": 6059.0, \"cases\": 3, \"deaths\": 0, \"cases-daily\": 0.0, \"deaths-daily\": 0.0, \"month-day\": \"3-04\"}, {\"date\": \"2020-03-05\", \"county\": \"Orange\", \"state\": \"California\", \"fips\": 6059.0, \"cases\": 3, \"deaths\": 0, \"cases-daily\": 0.0, \"deaths-daily\": 0.0, \"month-day\": \"3-05\"}, {\"date\": \"2020-03-06\", \"county\": \"Orange\", \"state\": \"California\", \"fips\": 6059.0, \"cases\": 3, \"deaths\": 0, \"cases-daily\": 0.0, \"deaths-daily\": 0.0, \"month-day\": \"3-06\"}, {\"date\": \"2020-03-07\", \"county\": \"Orange\", \"state\": \"California\", \"fips\": 6059.0, \"cases\": 3, \"deaths\": 0, \"cases-daily\": 0.0, \"deaths-daily\": 0.0, \"month-day\": \"3-07\"}, {\"date\": \"2020-03-08\", \"county\": \"Orange\", \"state\": \"California\", \"fips\": 6059.0, \"cases\": 3, \"deaths\": 0, \"cases-daily\": 2.0, \"deaths-daily\": 0.0, \"month-day\": \"3-08\"}, {\"date\": \"2020-03-09\", \"county\": \"Orange\", \"state\": \"California\", \"fips\": 6059.0, \"cases\": 5, \"deaths\": 0, \"cases-daily\": 0.0, \"deaths-daily\": 0.0, \"month-day\": \"3-09\"}, {\"date\": \"2020-03-10\", \"county\": \"Orange\", \"state\": \"California\", \"fips\": 6059.0, \"cases\": 5, \"deaths\": 0, \"cases-daily\": 1.0, \"deaths-daily\": 0.0, \"month-day\": \"3-10\"}, {\"date\": \"2020-03-11\", \"county\": \"Orange\", \"state\": \"California\", \"fips\": 6059.0, \"cases\": 6, \"deaths\": 0, \"cases-daily\": 0.0, \"deaths-daily\": 0.0, \"month-day\": \"3-11\"}, {\"date\": \"2020-03-12\", \"county\": \"Orange\", \"state\": \"California\", \"fips\": 6059.0, \"cases\": 6, \"deaths\": 0, \"cases-daily\": 7.0, \"deaths-daily\": 0.0, \"month-day\": \"3-12\"}, {\"date\": \"2020-03-13\", \"county\": \"Orange\", \"state\": \"California\", \"fips\": 6059.0, \"cases\": 13, \"deaths\": 0, \"cases-daily\": 1.0, \"deaths-daily\": 0.0, \"month-day\": \"3-13\"}, {\"date\": \"2020-03-14\", \"county\": \"Orange\", \"state\": \"California\", \"fips\": 6059.0, \"cases\": 14, \"deaths\": 0, \"cases-daily\": 3.0, \"deaths-daily\": 0.0, \"month-day\": \"3-14\"}, {\"date\": \"2020-03-15\", \"county\": \"Orange\", \"state\": \"California\", \"fips\": 6059.0, \"cases\": 17, \"deaths\": 0, \"cases-daily\": 5.0, \"deaths-daily\": 0.0, \"month-day\": \"3-15\"}, {\"date\": \"2020-03-16\", \"county\": \"Orange\", \"state\": \"California\", \"fips\": 6059.0, \"cases\": 22, \"deaths\": 0, \"cases-daily\": 7.0, \"deaths-daily\": 0.0, \"month-day\": \"3-16\"}, {\"date\": \"2020-03-17\", \"county\": \"Orange\", \"state\": \"California\", \"fips\": 6059.0, \"cases\": 29, \"deaths\": 0, \"cases-daily\": 13.0, \"deaths-daily\": 0.0, \"month-day\": \"3-17\"}, {\"date\": \"2020-03-18\", \"county\": \"Orange\", \"state\": \"California\", \"fips\": 6059.0, \"cases\": 42, \"deaths\": 0, \"cases-daily\": 11.0, \"deaths-daily\": 0.0, \"month-day\": \"3-18\"}, {\"date\": \"2020-03-19\", \"county\": \"Orange\", \"state\": \"California\", \"fips\": 6059.0, \"cases\": 53, \"deaths\": 0, \"cases-daily\": 12.0, \"deaths-daily\": 0.0, \"month-day\": \"3-19\"}, {\"date\": \"2020-03-20\", \"county\": \"Orange\", \"state\": \"California\", \"fips\": 6059.0, \"cases\": 65, \"deaths\": 0, \"cases-daily\": 13.0, \"deaths-daily\": 0.0, \"month-day\": \"3-20\"}, {\"date\": \"2020-03-21\", \"county\": \"Orange\", \"state\": \"California\", \"fips\": 6059.0, \"cases\": 78, \"deaths\": 0, \"cases-daily\": 17.0, \"deaths-daily\": 0.0, \"month-day\": \"3-21\"}, {\"date\": \"2020-03-22\", \"county\": \"Orange\", \"state\": \"California\", \"fips\": 6059.0, \"cases\": 95, \"deaths\": 0, \"cases-daily\": 30.0, \"deaths-daily\": 0.0, \"month-day\": \"3-22\"}, {\"date\": \"2020-03-23\", \"county\": \"Orange\", \"state\": \"California\", \"fips\": 6059.0, \"cases\": 125, \"deaths\": 0, \"cases-daily\": 27.0, \"deaths-daily\": 0.0, \"month-day\": \"3-23\"}, {\"date\": \"2020-03-24\", \"county\": \"Orange\", \"state\": \"California\", \"fips\": 6059.0, \"cases\": 152, \"deaths\": 0, \"cases-daily\": 35.0, \"deaths-daily\": 1.0, \"month-day\": \"3-24\"}, {\"date\": \"2020-03-25\", \"county\": \"Orange\", \"state\": \"California\", \"fips\": 6059.0, \"cases\": 187, \"deaths\": 1, \"cases-daily\": 69.0, \"deaths-daily\": 0.0, \"month-day\": \"3-25\"}, {\"date\": \"2020-03-26\", \"county\": \"Orange\", \"state\": \"California\", \"fips\": 6059.0, \"cases\": 256, \"deaths\": 1, \"cases-daily\": 65.0, \"deaths-daily\": 2.0, \"month-day\": \"3-26\"}, {\"date\": \"2020-03-27\", \"county\": \"Orange\", \"state\": \"California\", \"fips\": 6059.0, \"cases\": 321, \"deaths\": 3, \"cases-daily\": 0.0, \"deaths-daily\": 0.0, \"month-day\": \"3-27\"}, {\"date\": \"2020-03-28\", \"county\": \"Orange\", \"state\": \"California\", \"fips\": 6059.0, \"cases\": 321, \"deaths\": 3, \"cases-daily\": 110.0, \"deaths-daily\": 1.0, \"month-day\": \"3-28\"}, {\"date\": \"2020-03-29\", \"county\": \"Orange\", \"state\": \"California\", \"fips\": 6059.0, \"cases\": 431, \"deaths\": 4, \"cases-daily\": 33.0, \"deaths-daily\": 0.0, \"month-day\": \"3-29\"}, {\"date\": \"2020-03-30\", \"county\": \"Orange\", \"state\": \"California\", \"fips\": 6059.0, \"cases\": 464, \"deaths\": 4, \"cases-daily\": 38.0, \"deaths-daily\": 3.0, \"month-day\": \"3-30\"}, {\"date\": \"2020-03-31\", \"county\": \"Orange\", \"state\": \"California\", \"fips\": 6059.0, \"cases\": 502, \"deaths\": 7, \"cases-daily\": 104.0, \"deaths-daily\": 3.0, \"month-day\": \"3-31\"}, {\"date\": \"2020-04-01\", \"county\": \"Orange\", \"state\": \"California\", \"fips\": 6059.0, \"cases\": 606, \"deaths\": 10, \"cases-daily\": 50.0, \"deaths-daily\": 3.0, \"month-day\": \"4-01\"}, {\"date\": \"2020-04-02\", \"county\": \"Orange\", \"state\": \"California\", \"fips\": 6059.0, \"cases\": 656, \"deaths\": 13, \"cases-daily\": 55.0, \"deaths-daily\": 0.0, \"month-day\": \"4-02\"}, {\"date\": \"2020-04-03\", \"county\": \"Orange\", \"state\": \"California\", \"fips\": 6059.0, \"cases\": 711, \"deaths\": 13, \"cases-daily\": 75.0, \"deaths-daily\": 1.0, \"month-day\": \"4-03\"}, {\"date\": \"2020-04-04\", \"county\": \"Orange\", \"state\": \"California\", \"fips\": 6059.0, \"cases\": 786, \"deaths\": 14, \"cases-daily\": 48.0, \"deaths-daily\": 0.0, \"month-day\": \"4-04\"}, {\"date\": \"2020-04-05\", \"county\": \"Orange\", \"state\": \"California\", \"fips\": 6059.0, \"cases\": 834, \"deaths\": 14, \"cases-daily\": 48.0, \"deaths-daily\": 0.0, \"month-day\": \"4-05\"}, {\"date\": \"2020-04-06\", \"county\": \"Orange\", \"state\": \"California\", \"fips\": 6059.0, \"cases\": 882, \"deaths\": 14, \"cases-daily\": 49.0, \"deaths-daily\": 1.0, \"month-day\": \"4-06\"}, {\"date\": \"2020-04-07\", \"county\": \"Orange\", \"state\": \"California\", \"fips\": 6059.0, \"cases\": 931, \"deaths\": 15, \"cases-daily\": 85.0, \"deaths-daily\": 2.0, \"month-day\": \"4-07\"}, {\"date\": \"2020-04-08\", \"county\": \"Orange\", \"state\": \"California\", \"fips\": 6059.0, \"cases\": 1016, \"deaths\": 17, \"cases-daily\": 63.0, \"deaths-daily\": 0.0, \"month-day\": \"4-08\"}, {\"date\": \"2020-04-09\", \"county\": \"Orange\", \"state\": \"California\", \"fips\": 6059.0, \"cases\": 1079, \"deaths\": 17, \"cases-daily\": 59.0, \"deaths-daily\": 0.0, \"month-day\": \"4-09\"}, {\"date\": \"2020-04-10\", \"county\": \"Orange\", \"state\": \"California\", \"fips\": 6059.0, \"cases\": 1138, \"deaths\": 17, \"cases-daily\": 83.0, \"deaths-daily\": 1.0, \"month-day\": \"4-10\"}, {\"date\": \"2020-04-11\", \"county\": \"Orange\", \"state\": \"California\", \"fips\": 6059.0, \"cases\": 1221, \"deaths\": 18, \"cases-daily\": 56.0, \"deaths-daily\": 1.0, \"month-day\": \"4-11\"}, {\"date\": \"2020-04-12\", \"county\": \"Orange\", \"state\": \"California\", \"fips\": 6059.0, \"cases\": 1277, \"deaths\": 19, \"cases-daily\": 6.0, \"deaths-daily\": 0.0, \"month-day\": \"4-12\"}, {\"date\": \"2020-04-13\", \"county\": \"Orange\", \"state\": \"California\", \"fips\": 6059.0, \"cases\": 1283, \"deaths\": 19, \"cases-daily\": 16.0, \"deaths-daily\": 0.0, \"month-day\": \"4-13\"}, {\"date\": \"2020-04-14\", \"county\": \"Orange\", \"state\": \"California\", \"fips\": 6059.0, \"cases\": 1299, \"deaths\": 19, \"cases-daily\": 77.0, \"deaths-daily\": 3.0, \"month-day\": \"4-14\"}, {\"date\": \"2020-04-15\", \"county\": \"Orange\", \"state\": \"California\", \"fips\": 6059.0, \"cases\": 1376, \"deaths\": 22, \"cases-daily\": 49.0, \"deaths-daily\": 3.0, \"month-day\": \"4-15\"}, {\"date\": \"2020-04-16\", \"county\": \"Orange\", \"state\": \"California\", \"fips\": 6059.0, \"cases\": 1425, \"deaths\": 25, \"cases-daily\": 76.0, \"deaths-daily\": 3.0, \"month-day\": \"4-16\"}, {\"date\": \"2020-04-17\", \"county\": \"Orange\", \"state\": \"California\", \"fips\": 6059.0, \"cases\": 1501, \"deaths\": 28, \"cases-daily\": 55.0, \"deaths-daily\": 4.0, \"month-day\": \"4-17\"}, {\"date\": \"2020-04-18\", \"county\": \"Orange\", \"state\": \"California\", \"fips\": 6059.0, \"cases\": 1556, \"deaths\": 32, \"cases-daily\": 80.0, \"deaths-daily\": 0.0, \"month-day\": \"4-18\"}, {\"date\": \"2020-04-19\", \"county\": \"Orange\", \"state\": \"California\", \"fips\": 6059.0, \"cases\": 1636, \"deaths\": 32, \"cases-daily\": 40.0, \"deaths-daily\": 1.0, \"month-day\": \"4-19\"}, {\"date\": \"2020-04-20\", \"county\": \"Orange\", \"state\": \"California\", \"fips\": 6059.0, \"cases\": 1676, \"deaths\": 33, \"cases-daily\": 15.0, \"deaths-daily\": 0.0, \"month-day\": \"4-20\"}, {\"date\": \"2020-04-21\", \"county\": \"Orange\", \"state\": \"California\", \"fips\": 6059.0, \"cases\": 1691, \"deaths\": 33, \"cases-daily\": 62.0, \"deaths-daily\": 1.0, \"month-day\": \"4-21\"}, {\"date\": \"2020-04-22\", \"county\": \"Orange\", \"state\": \"California\", \"fips\": 6059.0, \"cases\": 1753, \"deaths\": 34, \"cases-daily\": 74.0, \"deaths-daily\": 2.0, \"month-day\": \"4-22\"}, {\"date\": \"2020-04-23\", \"county\": \"Orange\", \"state\": \"California\", \"fips\": 6059.0, \"cases\": 1827, \"deaths\": 36, \"cases-daily\": 18.0, \"deaths-daily\": 0.0, \"month-day\": \"4-23\"}, {\"date\": \"2020-04-24\", \"county\": \"Orange\", \"state\": \"California\", \"fips\": 6059.0, \"cases\": 1845, \"deaths\": 36, \"cases-daily\": 124.0, \"deaths-daily\": 2.0, \"month-day\": \"4-24\"}, {\"date\": \"2020-04-25\", \"county\": \"Orange\", \"state\": \"California\", \"fips\": 6059.0, \"cases\": 1969, \"deaths\": 38, \"cases-daily\": 105.0, \"deaths-daily\": 1.0, \"month-day\": \"4-25\"}, {\"date\": \"2020-04-26\", \"county\": \"Orange\", \"state\": \"California\", \"fips\": 6059.0, \"cases\": 2074, \"deaths\": 39, \"cases-daily\": 52.0, \"deaths-daily\": 1.0, \"month-day\": \"4-26\"}, {\"date\": \"2020-04-27\", \"county\": \"Orange\", \"state\": \"California\", \"fips\": 6059.0, \"cases\": 2126, \"deaths\": 40, \"cases-daily\": 72.0, \"deaths-daily\": 2.0, \"month-day\": \"4-27\"}, {\"date\": \"2020-04-28\", \"county\": \"Orange\", \"state\": \"California\", \"fips\": 6059.0, \"cases\": 2198, \"deaths\": 42, \"cases-daily\": 126.0, \"deaths-daily\": 2.0, \"month-day\": \"4-28\"}, {\"date\": \"2020-04-29\", \"county\": \"Orange\", \"state\": \"California\", \"fips\": 6059.0, \"cases\": 2324, \"deaths\": 44, \"cases-daily\": 97.0, \"deaths-daily\": 1.0, \"month-day\": \"4-29\"}, {\"date\": \"2020-04-30\", \"county\": \"Orange\", \"state\": \"California\", \"fips\": 6059.0, \"cases\": 2421, \"deaths\": 45, \"cases-daily\": 170.0, \"deaths-daily\": 5.0, \"month-day\": \"4-30\"}, {\"date\": \"2020-05-01\", \"county\": \"Orange\", \"state\": \"California\", \"fips\": 6059.0, \"cases\": 2591, \"deaths\": 50, \"cases-daily\": 69.0, \"deaths-daily\": 2.0, \"month-day\": \"5-01\"}, {\"date\": \"2020-05-02\", \"county\": \"Orange\", \"state\": \"California\", \"fips\": 6059.0, \"cases\": 2660, \"deaths\": 52, \"cases-daily\": 114.0, \"deaths-daily\": 0.0, \"month-day\": \"5-02\"}, {\"date\": \"2020-05-03\", \"county\": \"Orange\", \"state\": \"California\", \"fips\": 6059.0, \"cases\": 2774, \"deaths\": 52, \"cases-daily\": 85.0, \"deaths-daily\": 5.0, \"month-day\": \"5-03\"}, {\"date\": \"2020-05-04\", \"county\": \"Orange\", \"state\": \"California\", \"fips\": 6059.0, \"cases\": 2859, \"deaths\": 57, \"cases-daily\": 72.0, \"deaths-daily\": 4.0, \"month-day\": \"5-04\"}, {\"date\": \"2020-05-05\", \"county\": \"Orange\", \"state\": \"California\", \"fips\": 6059.0, \"cases\": 2931, \"deaths\": 61, \"cases-daily\": 110.0, \"deaths-daily\": 4.0, \"month-day\": \"5-05\"}, {\"date\": \"2020-05-06\", \"county\": \"Orange\", \"state\": \"California\", \"fips\": 6059.0, \"cases\": 3041, \"deaths\": 65, \"cases-daily\": 115.0, \"deaths-daily\": 1.0, \"month-day\": \"5-06\"}, {\"date\": \"2020-05-07\", \"county\": \"Orange\", \"state\": \"California\", \"fips\": 6059.0, \"cases\": 3156, \"deaths\": 66, \"cases-daily\": 127.0, \"deaths-daily\": 5.0, \"month-day\": \"5-07\"}, {\"date\": \"2020-05-08\", \"county\": \"Orange\", \"state\": \"California\", \"fips\": 6059.0, \"cases\": 3283, \"deaths\": 71, \"cases-daily\": 112.0, \"deaths-daily\": 3.0, \"month-day\": \"5-08\"}, {\"date\": \"2020-05-09\", \"county\": \"Orange\", \"state\": \"California\", \"fips\": 6059.0, \"cases\": 3395, \"deaths\": 74, \"cases-daily\": 111.0, \"deaths-daily\": 2.0, \"month-day\": \"5-09\"}, {\"date\": \"2020-05-10\", \"county\": \"Orange\", \"state\": \"California\", \"fips\": 6059.0, \"cases\": 3506, \"deaths\": 76, \"cases-daily\": 121.0, \"deaths-daily\": 0.0, \"month-day\": \"5-10\"}, {\"date\": \"2020-05-11\", \"county\": \"Orange\", \"state\": \"California\", \"fips\": 6059.0, \"cases\": 3627, \"deaths\": 76, \"cases-daily\": 72.0, \"deaths-daily\": 2.0, \"month-day\": \"5-11\"}, {\"date\": \"2020-05-12\", \"county\": \"Orange\", \"state\": \"California\", \"fips\": 6059.0, \"cases\": 3699, \"deaths\": 78, \"cases-daily\": 144.0, \"deaths-daily\": 2.0, \"month-day\": \"5-12\"}, {\"date\": \"2020-05-13\", \"county\": \"Orange\", \"state\": \"California\", \"fips\": 6059.0, \"cases\": 3843, \"deaths\": 80, \"cases-daily\": 182.0, \"deaths-daily\": 0.0, \"month-day\": \"5-13\"}, {\"date\": \"2020-05-14\", \"county\": \"Orange\", \"state\": \"California\", \"fips\": 6059.0, \"cases\": 4025, \"deaths\": 80, \"cases-daily\": 138.0, \"deaths-daily\": 4.0, \"month-day\": \"5-14\"}, {\"date\": \"2020-05-15\", \"county\": \"Orange\", \"state\": \"California\", \"fips\": 6059.0, \"cases\": 4163, \"deaths\": 84, \"cases-daily\": 118.0, \"deaths-daily\": 2.0, \"month-day\": \"5-15\"}, {\"date\": \"2020-05-16\", \"county\": \"Orange\", \"state\": \"California\", \"fips\": 6059.0, \"cases\": 4281, \"deaths\": 86, \"cases-daily\": null, \"deaths-daily\": null, \"month-day\": \"5-16\"}]}}, {\"mode\": \"vega-lite\"});\n",
       "</script>"
      ],
      "text/plain": [
       "alt.LayerChart(...)"
      ]
     },
     "execution_count": 50,
     "metadata": {},
     "output_type": "execute_result"
    }
   ],
   "source": [
    "plot('Orange','California')[0]"
   ]
  },
  {
   "cell_type": "code",
   "execution_count": 4,
   "metadata": {
    "colab": {},
    "colab_type": "code",
    "id": "Sl4CSs_Amd5Q"
   },
   "outputs": [],
   "source": [
    "counties = [('Lane','Oregon'),('Carteret','North Carolina'),('Orange','California')]\n",
    "for county,state in counties:\n",
    "  plot(county,state)\n"
   ]
  },
  {
   "cell_type": "markdown",
   "metadata": {
    "colab_type": "text",
    "id": "cKT_it4rA4qC"
   },
   "source": [
    "# Testing"
   ]
  },
  {
   "cell_type": "code",
   "execution_count": null,
   "metadata": {
    "cellView": "code",
    "colab": {},
    "colab_type": "code",
    "id": "m5g2f8gbi-8u"
   },
   "outputs": [],
   "source": [
    "county = \"county\" #@param [\"county\"]\n",
    "estates=pd.read_csv('https://covidtracking.com/api/v1/states/daily.csv')"
   ]
  },
  {
   "cell_type": "code",
   "execution_count": null,
   "metadata": {
    "colab": {
     "base_uri": "https://localhost:8080/",
     "height": 309
    },
    "colab_type": "code",
    "id": "KX3N5Cg7wKD4",
    "outputId": "110680e1-1fa4-4504-dc83-6ffa60f1bf15"
   },
   "outputs": [
    {
     "data": {
      "text/html": [
       "<div>\n",
       "<style scoped>\n",
       "    .dataframe tbody tr th:only-of-type {\n",
       "        vertical-align: middle;\n",
       "    }\n",
       "\n",
       "    .dataframe tbody tr th {\n",
       "        vertical-align: top;\n",
       "    }\n",
       "\n",
       "    .dataframe thead th {\n",
       "        text-align: right;\n",
       "    }\n",
       "</style>\n",
       "<table border=\"1\" class=\"dataframe\">\n",
       "  <thead>\n",
       "    <tr style=\"text-align: right;\">\n",
       "      <th></th>\n",
       "      <th>date</th>\n",
       "      <th>state</th>\n",
       "      <th>positive</th>\n",
       "      <th>negative</th>\n",
       "      <th>pending</th>\n",
       "      <th>hospitalizedCurrently</th>\n",
       "      <th>hospitalizedCumulative</th>\n",
       "      <th>inIcuCurrently</th>\n",
       "      <th>inIcuCumulative</th>\n",
       "      <th>onVentilatorCurrently</th>\n",
       "      <th>onVentilatorCumulative</th>\n",
       "      <th>recovered</th>\n",
       "      <th>dataQualityGrade</th>\n",
       "      <th>lastUpdateEt</th>\n",
       "      <th>hash</th>\n",
       "      <th>dateChecked</th>\n",
       "      <th>death</th>\n",
       "      <th>hospitalized</th>\n",
       "      <th>total</th>\n",
       "      <th>totalTestResults</th>\n",
       "      <th>posNeg</th>\n",
       "      <th>fips</th>\n",
       "      <th>deathIncrease</th>\n",
       "      <th>hospitalizedIncrease</th>\n",
       "      <th>negativeIncrease</th>\n",
       "      <th>positiveIncrease</th>\n",
       "      <th>totalTestResultsIncrease</th>\n",
       "    </tr>\n",
       "  </thead>\n",
       "  <tbody>\n",
       "    <tr>\n",
       "      <th>0</th>\n",
       "      <td>20200516</td>\n",
       "      <td>AK</td>\n",
       "      <td>392.0</td>\n",
       "      <td>32889.0</td>\n",
       "      <td>NaN</td>\n",
       "      <td>10.0</td>\n",
       "      <td>NaN</td>\n",
       "      <td>NaN</td>\n",
       "      <td>NaN</td>\n",
       "      <td>NaN</td>\n",
       "      <td>NaN</td>\n",
       "      <td>344.0</td>\n",
       "      <td>B</td>\n",
       "      <td>5/16/2020 00:00</td>\n",
       "      <td>ebbc757dba7fd38b8459eb3908d4faa864d1d85a</td>\n",
       "      <td>2020-05-16T20:00:00Z</td>\n",
       "      <td>10.0</td>\n",
       "      <td>NaN</td>\n",
       "      <td>33281</td>\n",
       "      <td>33281</td>\n",
       "      <td>33281</td>\n",
       "      <td>2</td>\n",
       "      <td>0.0</td>\n",
       "      <td>0.0</td>\n",
       "      <td>859.0</td>\n",
       "      <td>4.0</td>\n",
       "      <td>863.0</td>\n",
       "    </tr>\n",
       "    <tr>\n",
       "      <th>1</th>\n",
       "      <td>20200516</td>\n",
       "      <td>AL</td>\n",
       "      <td>11523.0</td>\n",
       "      <td>141971.0</td>\n",
       "      <td>NaN</td>\n",
       "      <td>NaN</td>\n",
       "      <td>1387.0</td>\n",
       "      <td>NaN</td>\n",
       "      <td>501.0</td>\n",
       "      <td>NaN</td>\n",
       "      <td>295.0</td>\n",
       "      <td>NaN</td>\n",
       "      <td>B</td>\n",
       "      <td>5/16/2020 00:00</td>\n",
       "      <td>b3b647c1555ac18188f23e454877c1b16b53caf2</td>\n",
       "      <td>2020-05-16T20:00:00Z</td>\n",
       "      <td>485.0</td>\n",
       "      <td>1387.0</td>\n",
       "      <td>153494</td>\n",
       "      <td>153494</td>\n",
       "      <td>153494</td>\n",
       "      <td>1</td>\n",
       "      <td>9.0</td>\n",
       "      <td>10.0</td>\n",
       "      <td>7124.0</td>\n",
       "      <td>307.0</td>\n",
       "      <td>7431.0</td>\n",
       "    </tr>\n",
       "    <tr>\n",
       "      <th>2</th>\n",
       "      <td>20200516</td>\n",
       "      <td>AR</td>\n",
       "      <td>4578.0</td>\n",
       "      <td>77066.0</td>\n",
       "      <td>NaN</td>\n",
       "      <td>65.0</td>\n",
       "      <td>520.0</td>\n",
       "      <td>NaN</td>\n",
       "      <td>NaN</td>\n",
       "      <td>10.0</td>\n",
       "      <td>101.0</td>\n",
       "      <td>3472.0</td>\n",
       "      <td>A</td>\n",
       "      <td>5/15/2020 16:20</td>\n",
       "      <td>2715a8779c1af1949901c1b256e0c7db130134ab</td>\n",
       "      <td>2020-05-16T20:00:00Z</td>\n",
       "      <td>98.0</td>\n",
       "      <td>520.0</td>\n",
       "      <td>81644</td>\n",
       "      <td>81644</td>\n",
       "      <td>81644</td>\n",
       "      <td>5</td>\n",
       "      <td>0.0</td>\n",
       "      <td>0.0</td>\n",
       "      <td>0.0</td>\n",
       "      <td>115.0</td>\n",
       "      <td>115.0</td>\n",
       "    </tr>\n",
       "    <tr>\n",
       "      <th>3</th>\n",
       "      <td>20200516</td>\n",
       "      <td>AS</td>\n",
       "      <td>0.0</td>\n",
       "      <td>105.0</td>\n",
       "      <td>NaN</td>\n",
       "      <td>NaN</td>\n",
       "      <td>NaN</td>\n",
       "      <td>NaN</td>\n",
       "      <td>NaN</td>\n",
       "      <td>NaN</td>\n",
       "      <td>NaN</td>\n",
       "      <td>NaN</td>\n",
       "      <td>C</td>\n",
       "      <td>5/10/2020 00:00</td>\n",
       "      <td>b8a80308335510397208555fbb0dfad5bfc5416f</td>\n",
       "      <td>2020-05-16T20:00:00Z</td>\n",
       "      <td>0.0</td>\n",
       "      <td>NaN</td>\n",
       "      <td>105</td>\n",
       "      <td>105</td>\n",
       "      <td>105</td>\n",
       "      <td>60</td>\n",
       "      <td>0.0</td>\n",
       "      <td>0.0</td>\n",
       "      <td>0.0</td>\n",
       "      <td>0.0</td>\n",
       "      <td>0.0</td>\n",
       "    </tr>\n",
       "    <tr>\n",
       "      <th>4</th>\n",
       "      <td>20200516</td>\n",
       "      <td>AZ</td>\n",
       "      <td>13631.0</td>\n",
       "      <td>133157.0</td>\n",
       "      <td>NaN</td>\n",
       "      <td>791.0</td>\n",
       "      <td>1683.0</td>\n",
       "      <td>344.0</td>\n",
       "      <td>NaN</td>\n",
       "      <td>210.0</td>\n",
       "      <td>NaN</td>\n",
       "      <td>3357.0</td>\n",
       "      <td>A+</td>\n",
       "      <td>5/16/2020 00:00</td>\n",
       "      <td>ed387914a563196c474d12d7bc518d1b58279ffd</td>\n",
       "      <td>2020-05-16T20:00:00Z</td>\n",
       "      <td>679.0</td>\n",
       "      <td>1683.0</td>\n",
       "      <td>146788</td>\n",
       "      <td>146788</td>\n",
       "      <td>146788</td>\n",
       "      <td>4</td>\n",
       "      <td>28.0</td>\n",
       "      <td>54.0</td>\n",
       "      <td>4325.0</td>\n",
       "      <td>462.0</td>\n",
       "      <td>4787.0</td>\n",
       "    </tr>\n",
       "  </tbody>\n",
       "</table>\n",
       "</div>"
      ],
      "text/plain": [
       "       date state  ...  positiveIncrease  totalTestResultsIncrease\n",
       "0  20200516    AK  ...               4.0                     863.0\n",
       "1  20200516    AL  ...             307.0                    7431.0\n",
       "2  20200516    AR  ...             115.0                     115.0\n",
       "3  20200516    AS  ...               0.0                       0.0\n",
       "4  20200516    AZ  ...             462.0                    4787.0\n",
       "\n",
       "[5 rows x 27 columns]"
      ]
     },
     "execution_count": 92,
     "metadata": {
      "tags": []
     },
     "output_type": "execute_result"
    }
   ],
   "source": [
    "lane_county['date'].dt.date"
   ]
  },
  {
   "cell_type": "code",
   "execution_count": null,
   "metadata": {
    "colab": {
     "base_uri": "https://localhost:8080/",
     "height": 103
    },
    "colab_type": "code",
    "id": "zCPmrkwcwR6x",
    "outputId": "16043bcb-51cb-49b2-aac1-a1813d39416a"
   },
   "outputs": [
    {
     "name": "stderr",
     "output_type": "stream",
     "text": [
      "/usr/local/lib/python3.6/dist-packages/pandas/core/ops/array_ops.py:253: FutureWarning: elementwise comparison failed; returning scalar instead, but in the future will perform elementwise comparison\n",
      "  res_values = method(rvalues)\n"
     ]
    },
    {
     "data": {
      "text/html": [
       "<div>\n",
       "<style scoped>\n",
       "    .dataframe tbody tr th:only-of-type {\n",
       "        vertical-align: middle;\n",
       "    }\n",
       "\n",
       "    .dataframe tbody tr th {\n",
       "        vertical-align: top;\n",
       "    }\n",
       "\n",
       "    .dataframe thead th {\n",
       "        text-align: right;\n",
       "    }\n",
       "</style>\n",
       "<table border=\"1\" class=\"dataframe\">\n",
       "  <thead>\n",
       "    <tr style=\"text-align: right;\">\n",
       "      <th></th>\n",
       "      <th>date</th>\n",
       "      <th>state</th>\n",
       "      <th>positive</th>\n",
       "      <th>negative</th>\n",
       "      <th>pending</th>\n",
       "      <th>hospitalizedCurrently</th>\n",
       "      <th>hospitalizedCumulative</th>\n",
       "      <th>inIcuCurrently</th>\n",
       "      <th>inIcuCumulative</th>\n",
       "      <th>onVentilatorCurrently</th>\n",
       "      <th>onVentilatorCumulative</th>\n",
       "      <th>recovered</th>\n",
       "      <th>dataQualityGrade</th>\n",
       "      <th>lastUpdateEt</th>\n",
       "      <th>hash</th>\n",
       "      <th>dateChecked</th>\n",
       "      <th>death</th>\n",
       "      <th>hospitalized</th>\n",
       "      <th>total</th>\n",
       "      <th>totalTestResults</th>\n",
       "      <th>posNeg</th>\n",
       "      <th>fips</th>\n",
       "      <th>deathIncrease</th>\n",
       "      <th>hospitalizedIncrease</th>\n",
       "      <th>negativeIncrease</th>\n",
       "      <th>positiveIncrease</th>\n",
       "      <th>totalTestResultsIncrease</th>\n",
       "    </tr>\n",
       "  </thead>\n",
       "  <tbody>\n",
       "  </tbody>\n",
       "</table>\n",
       "</div>"
      ],
      "text/plain": [
       "Empty DataFrame\n",
       "Columns: [date, state, positive, negative, pending, hospitalizedCurrently, hospitalizedCumulative, inIcuCurrently, inIcuCumulative, onVentilatorCurrently, onVentilatorCumulative, recovered, dataQualityGrade, lastUpdateEt, hash, dateChecked, death, hospitalized, total, totalTestResults, posNeg, fips, deathIncrease, hospitalizedIncrease, negativeIncrease, positiveIncrease, totalTestResultsIncrease]\n",
       "Index: []"
      ]
     },
     "execution_count": 95,
     "metadata": {
      "tags": []
     },
     "output_type": "execute_result"
    }
   ],
   "source": [
    "oregon[oregon.fips=='41039'].head()"
   ]
  },
  {
   "cell_type": "code",
   "execution_count": null,
   "metadata": {
    "colab": {},
    "colab_type": "code",
    "id": "IzpedOPBwTh3"
   },
   "outputs": [],
   "source": []
  }
 ],
 "metadata": {
  "colab": {
   "collapsed_sections": [],
   "include_colab_link": true,
   "name": "altair.ipynb",
   "provenance": []
  },
  "kernelspec": {
   "display_name": "Python 3",
   "language": "python",
   "name": "python3"
  },
  "language_info": {
   "codemirror_mode": {
    "name": "ipython",
    "version": 3
   },
   "file_extension": ".py",
   "mimetype": "text/x-python",
   "name": "python",
   "nbconvert_exporter": "python",
   "pygments_lexer": "ipython3",
   "version": "3.7.6"
  }
 },
 "nbformat": 4,
 "nbformat_minor": 4
}
