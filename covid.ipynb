{
 "cells": [
  {
   "cell_type": "markdown",
   "metadata": {
    "colab_type": "text",
    "id": "view-in-github"
   },
   "source": [
    "<a href=\"https://colab.research.google.com/github/brnorris03/notebooks/blob/master/covid.ipynb\" target=\"_parent\"><img src=\"https://colab.research.google.com/assets/colab-badge.svg\" alt=\"Open In Colab\"/></a>"
   ]
  },
  {
   "cell_type": "markdown",
   "metadata": {
    "colab_type": "text",
    "id": "TrwD-AkYB4_2"
   },
   "source": [
    "#  Data explorations for COVID-19\n",
    "\n",
    "The following is just for my own amusement, no guarantees of any sort are provided. "
   ]
  },
  {
   "cell_type": "code",
   "execution_count": 2,
   "metadata": {
    "cellView": "code",
    "colab": {
     "base_uri": "https://localhost:8080/",
     "height": 235
    },
    "colab_type": "code",
    "id": "HCglWrl4QFdD",
    "outputId": "b8e514ce-5929-4a7e-e4c6-f0733f2cb81a"
   },
   "outputs": [],
   "source": [
    "import pandas as pd\n",
    "from datetime import datetime as dt\n",
    "import altair as alt\n",
    "\n",
    "pd.options.mode.chained_assignment = None\n",
    "\n",
    "# New York times data is summarized conveniently by county in github based on the \n",
    "# more detailed data at https://github.com/CSSEGISandData/COVID-19/tree/master/csse_covid_19_data\n",
    "url = 'https://raw.githubusercontent.com/nytimes/covid-19-data/master/us-counties.csv'\n",
    "county_data = pd.read_csv(url)"
   ]
  },
  {
   "cell_type": "code",
   "execution_count": 3,
   "metadata": {
    "colab": {},
    "colab_type": "code",
    "id": "5KmXpSy5Tb5k"
   },
   "outputs": [],
   "source": [
    "def plot(county, state):\n",
    "  charts = []\n",
    "  for daily in (True, False):\n",
    "    if daily:\n",
    "      vals = ['cases-daily','deaths-daily']\n",
    "      daily_or_total = 'Daily'\n",
    "      angle=0\n",
    "    else:\n",
    "      daily_or_total = 'Total'\n",
    "      vals = ['cases','deaths']\n",
    "      angle=270\n",
    "    thecounty = county_data[(county_data.state == state) & (county_data.county == county)]\n",
    "    thecounty['realdate'] = pd.to_datetime(thecounty['date'])\n",
    "    thecounty = thecounty.set_index(['realdate'])\n",
    "    thecounty['cases-daily'] = (thecounty['cases'].shift(-1) - thecounty['cases']).shift(1)\n",
    "    thecounty['deaths-daily'] = (thecounty['deaths'].shift(-1) - thecounty['deaths']).shift(1)\n",
    "    thecounty = thecounty.loc['2020-03-01':] # not much data before then\n",
    "    \n",
    "    # Shorten dates\n",
    "    thecounty['month-day']=thecounty.date.str.slice(6)\n",
    "\n",
    "    # Plot daily cases and deaths\n",
    "    base = alt.Chart(thecounty).mark_bar().transform_fold(\n",
    "        fold=vals, \n",
    "        as_=['variable', 'value']\n",
    "    ).encode(\n",
    "        x='month-day',\n",
    "        y='max(value):Q',\n",
    "        color=alt.Color('variable:N', scale=alt.Scale(scheme='set2')),\n",
    "        tooltip=['cases-daily', 'deaths-daily', 'cases', 'deaths']\n",
    "    ).properties(width=900, title='%s County %s COVID-19 %s Cases and Deaths' % (county, state, daily_or_total))\n",
    "    if daily: x,y=-5,-8\n",
    "    else: x,y=8,0\n",
    "    text1 = base.mark_text(align='left',baseline='middle',dx=x,dy=y,angle=angle,fontSize=8,binSpacing=1).encode(\n",
    "        y=vals[1],text=vals[1],color=alt.value('black')\n",
    "        )\n",
    "    text2 = base.mark_text(align='left',baseline='middle',dx=x,dy=y,angle=angle,fontSize=8,binSpacing=1).encode(\n",
    "        y=vals[0],text=vals[0],color=alt.value('black')\n",
    "        )\n",
    "\n",
    "    newchart = base.interactive() + text1 + text2\n",
    "    charts.append(newchart)\n",
    "\n",
    "  combined = alt.vconcat(charts[0],charts[1])\n",
    "  combined.save('%s.html'% county)\n",
    "  return charts"
   ]
  },
  {
   "cell_type": "code",
   "execution_count": 4,
   "metadata": {
    "colab": {
     "base_uri": "https://localhost:8080/",
     "height": 417
    },
    "colab_type": "code",
    "id": "YJc6oc7EWxm5",
    "outputId": "8a38cb8b-ae46-48fa-d5c7-c8b027498c1f"
   },
   "outputs": [
    {
     "data": {
      "application/vnd.vegalite.v3+json": {
       "$schema": "https://vega.github.io/schema/vega-lite/v3.4.0.json",
       "config": {
        "mark": {
         "tooltip": null
        },
        "view": {
         "height": 300,
         "width": 400
        }
       },
       "data": {
        "name": "data-34a90429d8c6891b408400f7deb72417"
       },
       "datasets": {
        "data-34a90429d8c6891b408400f7deb72417": [
         {
          "cases": 1,
          "cases-daily": 0,
          "county": "Orange",
          "date": "2020-03-01",
          "deaths": 0,
          "deaths-daily": 0,
          "fips": 6059,
          "month-day": "3-01",
          "state": "California"
         },
         {
          "cases": 1,
          "cases-daily": 0,
          "county": "Orange",
          "date": "2020-03-02",
          "deaths": 0,
          "deaths-daily": 0,
          "fips": 6059,
          "month-day": "3-02",
          "state": "California"
         },
         {
          "cases": 3,
          "cases-daily": 2,
          "county": "Orange",
          "date": "2020-03-03",
          "deaths": 0,
          "deaths-daily": 0,
          "fips": 6059,
          "month-day": "3-03",
          "state": "California"
         },
         {
          "cases": 3,
          "cases-daily": 0,
          "county": "Orange",
          "date": "2020-03-04",
          "deaths": 0,
          "deaths-daily": 0,
          "fips": 6059,
          "month-day": "3-04",
          "state": "California"
         },
         {
          "cases": 3,
          "cases-daily": 0,
          "county": "Orange",
          "date": "2020-03-05",
          "deaths": 0,
          "deaths-daily": 0,
          "fips": 6059,
          "month-day": "3-05",
          "state": "California"
         },
         {
          "cases": 3,
          "cases-daily": 0,
          "county": "Orange",
          "date": "2020-03-06",
          "deaths": 0,
          "deaths-daily": 0,
          "fips": 6059,
          "month-day": "3-06",
          "state": "California"
         },
         {
          "cases": 3,
          "cases-daily": 0,
          "county": "Orange",
          "date": "2020-03-07",
          "deaths": 0,
          "deaths-daily": 0,
          "fips": 6059,
          "month-day": "3-07",
          "state": "California"
         },
         {
          "cases": 3,
          "cases-daily": 0,
          "county": "Orange",
          "date": "2020-03-08",
          "deaths": 0,
          "deaths-daily": 0,
          "fips": 6059,
          "month-day": "3-08",
          "state": "California"
         },
         {
          "cases": 5,
          "cases-daily": 2,
          "county": "Orange",
          "date": "2020-03-09",
          "deaths": 0,
          "deaths-daily": 0,
          "fips": 6059,
          "month-day": "3-09",
          "state": "California"
         },
         {
          "cases": 5,
          "cases-daily": 0,
          "county": "Orange",
          "date": "2020-03-10",
          "deaths": 0,
          "deaths-daily": 0,
          "fips": 6059,
          "month-day": "3-10",
          "state": "California"
         },
         {
          "cases": 6,
          "cases-daily": 1,
          "county": "Orange",
          "date": "2020-03-11",
          "deaths": 0,
          "deaths-daily": 0,
          "fips": 6059,
          "month-day": "3-11",
          "state": "California"
         },
         {
          "cases": 6,
          "cases-daily": 0,
          "county": "Orange",
          "date": "2020-03-12",
          "deaths": 0,
          "deaths-daily": 0,
          "fips": 6059,
          "month-day": "3-12",
          "state": "California"
         },
         {
          "cases": 13,
          "cases-daily": 7,
          "county": "Orange",
          "date": "2020-03-13",
          "deaths": 0,
          "deaths-daily": 0,
          "fips": 6059,
          "month-day": "3-13",
          "state": "California"
         },
         {
          "cases": 14,
          "cases-daily": 1,
          "county": "Orange",
          "date": "2020-03-14",
          "deaths": 0,
          "deaths-daily": 0,
          "fips": 6059,
          "month-day": "3-14",
          "state": "California"
         },
         {
          "cases": 17,
          "cases-daily": 3,
          "county": "Orange",
          "date": "2020-03-15",
          "deaths": 0,
          "deaths-daily": 0,
          "fips": 6059,
          "month-day": "3-15",
          "state": "California"
         },
         {
          "cases": 22,
          "cases-daily": 5,
          "county": "Orange",
          "date": "2020-03-16",
          "deaths": 0,
          "deaths-daily": 0,
          "fips": 6059,
          "month-day": "3-16",
          "state": "California"
         },
         {
          "cases": 29,
          "cases-daily": 7,
          "county": "Orange",
          "date": "2020-03-17",
          "deaths": 0,
          "deaths-daily": 0,
          "fips": 6059,
          "month-day": "3-17",
          "state": "California"
         },
         {
          "cases": 42,
          "cases-daily": 13,
          "county": "Orange",
          "date": "2020-03-18",
          "deaths": 0,
          "deaths-daily": 0,
          "fips": 6059,
          "month-day": "3-18",
          "state": "California"
         },
         {
          "cases": 53,
          "cases-daily": 11,
          "county": "Orange",
          "date": "2020-03-19",
          "deaths": 0,
          "deaths-daily": 0,
          "fips": 6059,
          "month-day": "3-19",
          "state": "California"
         },
         {
          "cases": 65,
          "cases-daily": 12,
          "county": "Orange",
          "date": "2020-03-20",
          "deaths": 0,
          "deaths-daily": 0,
          "fips": 6059,
          "month-day": "3-20",
          "state": "California"
         },
         {
          "cases": 78,
          "cases-daily": 13,
          "county": "Orange",
          "date": "2020-03-21",
          "deaths": 0,
          "deaths-daily": 0,
          "fips": 6059,
          "month-day": "3-21",
          "state": "California"
         },
         {
          "cases": 95,
          "cases-daily": 17,
          "county": "Orange",
          "date": "2020-03-22",
          "deaths": 0,
          "deaths-daily": 0,
          "fips": 6059,
          "month-day": "3-22",
          "state": "California"
         },
         {
          "cases": 125,
          "cases-daily": 30,
          "county": "Orange",
          "date": "2020-03-23",
          "deaths": 0,
          "deaths-daily": 0,
          "fips": 6059,
          "month-day": "3-23",
          "state": "California"
         },
         {
          "cases": 152,
          "cases-daily": 27,
          "county": "Orange",
          "date": "2020-03-24",
          "deaths": 0,
          "deaths-daily": 0,
          "fips": 6059,
          "month-day": "3-24",
          "state": "California"
         },
         {
          "cases": 187,
          "cases-daily": 35,
          "county": "Orange",
          "date": "2020-03-25",
          "deaths": 1,
          "deaths-daily": 1,
          "fips": 6059,
          "month-day": "3-25",
          "state": "California"
         },
         {
          "cases": 256,
          "cases-daily": 69,
          "county": "Orange",
          "date": "2020-03-26",
          "deaths": 1,
          "deaths-daily": 0,
          "fips": 6059,
          "month-day": "3-26",
          "state": "California"
         },
         {
          "cases": 321,
          "cases-daily": 65,
          "county": "Orange",
          "date": "2020-03-27",
          "deaths": 3,
          "deaths-daily": 2,
          "fips": 6059,
          "month-day": "3-27",
          "state": "California"
         },
         {
          "cases": 321,
          "cases-daily": 0,
          "county": "Orange",
          "date": "2020-03-28",
          "deaths": 3,
          "deaths-daily": 0,
          "fips": 6059,
          "month-day": "3-28",
          "state": "California"
         },
         {
          "cases": 431,
          "cases-daily": 110,
          "county": "Orange",
          "date": "2020-03-29",
          "deaths": 4,
          "deaths-daily": 1,
          "fips": 6059,
          "month-day": "3-29",
          "state": "California"
         },
         {
          "cases": 464,
          "cases-daily": 33,
          "county": "Orange",
          "date": "2020-03-30",
          "deaths": 4,
          "deaths-daily": 0,
          "fips": 6059,
          "month-day": "3-30",
          "state": "California"
         },
         {
          "cases": 502,
          "cases-daily": 38,
          "county": "Orange",
          "date": "2020-03-31",
          "deaths": 7,
          "deaths-daily": 3,
          "fips": 6059,
          "month-day": "3-31",
          "state": "California"
         },
         {
          "cases": 606,
          "cases-daily": 104,
          "county": "Orange",
          "date": "2020-04-01",
          "deaths": 10,
          "deaths-daily": 3,
          "fips": 6059,
          "month-day": "4-01",
          "state": "California"
         },
         {
          "cases": 656,
          "cases-daily": 50,
          "county": "Orange",
          "date": "2020-04-02",
          "deaths": 13,
          "deaths-daily": 3,
          "fips": 6059,
          "month-day": "4-02",
          "state": "California"
         },
         {
          "cases": 711,
          "cases-daily": 55,
          "county": "Orange",
          "date": "2020-04-03",
          "deaths": 13,
          "deaths-daily": 0,
          "fips": 6059,
          "month-day": "4-03",
          "state": "California"
         },
         {
          "cases": 786,
          "cases-daily": 75,
          "county": "Orange",
          "date": "2020-04-04",
          "deaths": 14,
          "deaths-daily": 1,
          "fips": 6059,
          "month-day": "4-04",
          "state": "California"
         },
         {
          "cases": 834,
          "cases-daily": 48,
          "county": "Orange",
          "date": "2020-04-05",
          "deaths": 14,
          "deaths-daily": 0,
          "fips": 6059,
          "month-day": "4-05",
          "state": "California"
         },
         {
          "cases": 882,
          "cases-daily": 48,
          "county": "Orange",
          "date": "2020-04-06",
          "deaths": 14,
          "deaths-daily": 0,
          "fips": 6059,
          "month-day": "4-06",
          "state": "California"
         },
         {
          "cases": 931,
          "cases-daily": 49,
          "county": "Orange",
          "date": "2020-04-07",
          "deaths": 15,
          "deaths-daily": 1,
          "fips": 6059,
          "month-day": "4-07",
          "state": "California"
         },
         {
          "cases": 1016,
          "cases-daily": 85,
          "county": "Orange",
          "date": "2020-04-08",
          "deaths": 17,
          "deaths-daily": 2,
          "fips": 6059,
          "month-day": "4-08",
          "state": "California"
         },
         {
          "cases": 1079,
          "cases-daily": 63,
          "county": "Orange",
          "date": "2020-04-09",
          "deaths": 17,
          "deaths-daily": 0,
          "fips": 6059,
          "month-day": "4-09",
          "state": "California"
         },
         {
          "cases": 1138,
          "cases-daily": 59,
          "county": "Orange",
          "date": "2020-04-10",
          "deaths": 17,
          "deaths-daily": 0,
          "fips": 6059,
          "month-day": "4-10",
          "state": "California"
         },
         {
          "cases": 1221,
          "cases-daily": 83,
          "county": "Orange",
          "date": "2020-04-11",
          "deaths": 18,
          "deaths-daily": 1,
          "fips": 6059,
          "month-day": "4-11",
          "state": "California"
         },
         {
          "cases": 1277,
          "cases-daily": 56,
          "county": "Orange",
          "date": "2020-04-12",
          "deaths": 19,
          "deaths-daily": 1,
          "fips": 6059,
          "month-day": "4-12",
          "state": "California"
         },
         {
          "cases": 1283,
          "cases-daily": 6,
          "county": "Orange",
          "date": "2020-04-13",
          "deaths": 19,
          "deaths-daily": 0,
          "fips": 6059,
          "month-day": "4-13",
          "state": "California"
         },
         {
          "cases": 1299,
          "cases-daily": 16,
          "county": "Orange",
          "date": "2020-04-14",
          "deaths": 19,
          "deaths-daily": 0,
          "fips": 6059,
          "month-day": "4-14",
          "state": "California"
         },
         {
          "cases": 1376,
          "cases-daily": 77,
          "county": "Orange",
          "date": "2020-04-15",
          "deaths": 22,
          "deaths-daily": 3,
          "fips": 6059,
          "month-day": "4-15",
          "state": "California"
         },
         {
          "cases": 1425,
          "cases-daily": 49,
          "county": "Orange",
          "date": "2020-04-16",
          "deaths": 25,
          "deaths-daily": 3,
          "fips": 6059,
          "month-day": "4-16",
          "state": "California"
         },
         {
          "cases": 1501,
          "cases-daily": 76,
          "county": "Orange",
          "date": "2020-04-17",
          "deaths": 28,
          "deaths-daily": 3,
          "fips": 6059,
          "month-day": "4-17",
          "state": "California"
         },
         {
          "cases": 1556,
          "cases-daily": 55,
          "county": "Orange",
          "date": "2020-04-18",
          "deaths": 32,
          "deaths-daily": 4,
          "fips": 6059,
          "month-day": "4-18",
          "state": "California"
         },
         {
          "cases": 1636,
          "cases-daily": 80,
          "county": "Orange",
          "date": "2020-04-19",
          "deaths": 32,
          "deaths-daily": 0,
          "fips": 6059,
          "month-day": "4-19",
          "state": "California"
         },
         {
          "cases": 1676,
          "cases-daily": 40,
          "county": "Orange",
          "date": "2020-04-20",
          "deaths": 33,
          "deaths-daily": 1,
          "fips": 6059,
          "month-day": "4-20",
          "state": "California"
         },
         {
          "cases": 1691,
          "cases-daily": 15,
          "county": "Orange",
          "date": "2020-04-21",
          "deaths": 33,
          "deaths-daily": 0,
          "fips": 6059,
          "month-day": "4-21",
          "state": "California"
         },
         {
          "cases": 1753,
          "cases-daily": 62,
          "county": "Orange",
          "date": "2020-04-22",
          "deaths": 34,
          "deaths-daily": 1,
          "fips": 6059,
          "month-day": "4-22",
          "state": "California"
         },
         {
          "cases": 1827,
          "cases-daily": 74,
          "county": "Orange",
          "date": "2020-04-23",
          "deaths": 36,
          "deaths-daily": 2,
          "fips": 6059,
          "month-day": "4-23",
          "state": "California"
         },
         {
          "cases": 1845,
          "cases-daily": 18,
          "county": "Orange",
          "date": "2020-04-24",
          "deaths": 36,
          "deaths-daily": 0,
          "fips": 6059,
          "month-day": "4-24",
          "state": "California"
         },
         {
          "cases": 1969,
          "cases-daily": 124,
          "county": "Orange",
          "date": "2020-04-25",
          "deaths": 38,
          "deaths-daily": 2,
          "fips": 6059,
          "month-day": "4-25",
          "state": "California"
         },
         {
          "cases": 2074,
          "cases-daily": 105,
          "county": "Orange",
          "date": "2020-04-26",
          "deaths": 39,
          "deaths-daily": 1,
          "fips": 6059,
          "month-day": "4-26",
          "state": "California"
         },
         {
          "cases": 2126,
          "cases-daily": 52,
          "county": "Orange",
          "date": "2020-04-27",
          "deaths": 40,
          "deaths-daily": 1,
          "fips": 6059,
          "month-day": "4-27",
          "state": "California"
         },
         {
          "cases": 2198,
          "cases-daily": 72,
          "county": "Orange",
          "date": "2020-04-28",
          "deaths": 42,
          "deaths-daily": 2,
          "fips": 6059,
          "month-day": "4-28",
          "state": "California"
         },
         {
          "cases": 2324,
          "cases-daily": 126,
          "county": "Orange",
          "date": "2020-04-29",
          "deaths": 44,
          "deaths-daily": 2,
          "fips": 6059,
          "month-day": "4-29",
          "state": "California"
         },
         {
          "cases": 2421,
          "cases-daily": 97,
          "county": "Orange",
          "date": "2020-04-30",
          "deaths": 45,
          "deaths-daily": 1,
          "fips": 6059,
          "month-day": "4-30",
          "state": "California"
         },
         {
          "cases": 2591,
          "cases-daily": 170,
          "county": "Orange",
          "date": "2020-05-01",
          "deaths": 50,
          "deaths-daily": 5,
          "fips": 6059,
          "month-day": "5-01",
          "state": "California"
         },
         {
          "cases": 2660,
          "cases-daily": 69,
          "county": "Orange",
          "date": "2020-05-02",
          "deaths": 52,
          "deaths-daily": 2,
          "fips": 6059,
          "month-day": "5-02",
          "state": "California"
         },
         {
          "cases": 2774,
          "cases-daily": 114,
          "county": "Orange",
          "date": "2020-05-03",
          "deaths": 52,
          "deaths-daily": 0,
          "fips": 6059,
          "month-day": "5-03",
          "state": "California"
         },
         {
          "cases": 2859,
          "cases-daily": 85,
          "county": "Orange",
          "date": "2020-05-04",
          "deaths": 57,
          "deaths-daily": 5,
          "fips": 6059,
          "month-day": "5-04",
          "state": "California"
         },
         {
          "cases": 2931,
          "cases-daily": 72,
          "county": "Orange",
          "date": "2020-05-05",
          "deaths": 61,
          "deaths-daily": 4,
          "fips": 6059,
          "month-day": "5-05",
          "state": "California"
         },
         {
          "cases": 3041,
          "cases-daily": 110,
          "county": "Orange",
          "date": "2020-05-06",
          "deaths": 65,
          "deaths-daily": 4,
          "fips": 6059,
          "month-day": "5-06",
          "state": "California"
         },
         {
          "cases": 3156,
          "cases-daily": 115,
          "county": "Orange",
          "date": "2020-05-07",
          "deaths": 66,
          "deaths-daily": 1,
          "fips": 6059,
          "month-day": "5-07",
          "state": "California"
         },
         {
          "cases": 3283,
          "cases-daily": 127,
          "county": "Orange",
          "date": "2020-05-08",
          "deaths": 71,
          "deaths-daily": 5,
          "fips": 6059,
          "month-day": "5-08",
          "state": "California"
         },
         {
          "cases": 3395,
          "cases-daily": 112,
          "county": "Orange",
          "date": "2020-05-09",
          "deaths": 74,
          "deaths-daily": 3,
          "fips": 6059,
          "month-day": "5-09",
          "state": "California"
         },
         {
          "cases": 3506,
          "cases-daily": 111,
          "county": "Orange",
          "date": "2020-05-10",
          "deaths": 76,
          "deaths-daily": 2,
          "fips": 6059,
          "month-day": "5-10",
          "state": "California"
         },
         {
          "cases": 3627,
          "cases-daily": 121,
          "county": "Orange",
          "date": "2020-05-11",
          "deaths": 76,
          "deaths-daily": 0,
          "fips": 6059,
          "month-day": "5-11",
          "state": "California"
         },
         {
          "cases": 3699,
          "cases-daily": 72,
          "county": "Orange",
          "date": "2020-05-12",
          "deaths": 78,
          "deaths-daily": 2,
          "fips": 6059,
          "month-day": "5-12",
          "state": "California"
         },
         {
          "cases": 3843,
          "cases-daily": 144,
          "county": "Orange",
          "date": "2020-05-13",
          "deaths": 80,
          "deaths-daily": 2,
          "fips": 6059,
          "month-day": "5-13",
          "state": "California"
         },
         {
          "cases": 4025,
          "cases-daily": 182,
          "county": "Orange",
          "date": "2020-05-14",
          "deaths": 80,
          "deaths-daily": 0,
          "fips": 6059,
          "month-day": "5-14",
          "state": "California"
         },
         {
          "cases": 4163,
          "cases-daily": 138,
          "county": "Orange",
          "date": "2020-05-15",
          "deaths": 84,
          "deaths-daily": 4,
          "fips": 6059,
          "month-day": "5-15",
          "state": "California"
         },
         {
          "cases": 4281,
          "cases-daily": 118,
          "county": "Orange",
          "date": "2020-05-16",
          "deaths": 86,
          "deaths-daily": 2,
          "fips": 6059,
          "month-day": "5-16",
          "state": "California"
         },
         {
          "cases": 4396,
          "cases-daily": 115,
          "county": "Orange",
          "date": "2020-05-17",
          "deaths": 88,
          "deaths-daily": 2,
          "fips": 6059,
          "month-day": "5-17",
          "state": "California"
         },
         {
          "cases": 4466,
          "cases-daily": 70,
          "county": "Orange",
          "date": "2020-05-18",
          "deaths": 88,
          "deaths-daily": 0,
          "fips": 6059,
          "month-day": "5-18",
          "state": "California"
         },
         {
          "cases": 4558,
          "cases-daily": 92,
          "county": "Orange",
          "date": "2020-05-19",
          "deaths": 88,
          "deaths-daily": 0,
          "fips": 6059,
          "month-day": "5-19",
          "state": "California"
         },
         {
          "cases": 4746,
          "cases-daily": 188,
          "county": "Orange",
          "date": "2020-05-20",
          "deaths": 98,
          "deaths-daily": 10,
          "fips": 6059,
          "month-day": "5-20",
          "state": "California"
         },
         {
          "cases": 4866,
          "cases-daily": 120,
          "county": "Orange",
          "date": "2020-05-21",
          "deaths": 112,
          "deaths-daily": 14,
          "fips": 6059,
          "month-day": "5-21",
          "state": "California"
         }
        ]
       },
       "layer": [
        {
         "encoding": {
          "color": {
           "field": "variable",
           "scale": {
            "scheme": "set2"
           },
           "type": "nominal"
          },
          "tooltip": [
           {
            "field": "cases-daily",
            "type": "quantitative"
           },
           {
            "field": "deaths-daily",
            "type": "quantitative"
           },
           {
            "field": "cases",
            "type": "quantitative"
           },
           {
            "field": "deaths",
            "type": "quantitative"
           }
          ],
          "x": {
           "field": "month-day",
           "type": "nominal"
          },
          "y": {
           "aggregate": "max",
           "field": "value",
           "type": "quantitative"
          }
         },
         "mark": "bar",
         "selection": {
          "selector002": {
           "bind": "scales",
           "encodings": [
            "x",
            "y"
           ],
           "type": "interval"
          }
         },
         "title": "Orange County California COVID-19 Total Cases and Deaths",
         "transform": [
          {
           "as": [
            "variable",
            "value"
           ],
           "fold": [
            "cases",
            "deaths"
           ]
          }
         ],
         "width": 900
        },
        {
         "encoding": {
          "color": {
           "value": "black"
          },
          "text": {
           "field": "deaths",
           "type": "quantitative"
          },
          "tooltip": [
           {
            "field": "cases-daily",
            "type": "quantitative"
           },
           {
            "field": "deaths-daily",
            "type": "quantitative"
           },
           {
            "field": "cases",
            "type": "quantitative"
           },
           {
            "field": "deaths",
            "type": "quantitative"
           }
          ],
          "x": {
           "field": "month-day",
           "type": "nominal"
          },
          "y": {
           "field": "deaths",
           "type": "quantitative"
          }
         },
         "mark": {
          "align": "left",
          "angle": 270,
          "baseline": "middle",
          "binSpacing": 1,
          "dx": 8,
          "dy": 0,
          "fontSize": 8,
          "type": "text"
         },
         "title": "Orange County California COVID-19 Total Cases and Deaths",
         "transform": [
          {
           "as": [
            "variable",
            "value"
           ],
           "fold": [
            "cases",
            "deaths"
           ]
          }
         ],
         "width": 900
        },
        {
         "encoding": {
          "color": {
           "value": "black"
          },
          "text": {
           "field": "cases",
           "type": "quantitative"
          },
          "tooltip": [
           {
            "field": "cases-daily",
            "type": "quantitative"
           },
           {
            "field": "deaths-daily",
            "type": "quantitative"
           },
           {
            "field": "cases",
            "type": "quantitative"
           },
           {
            "field": "deaths",
            "type": "quantitative"
           }
          ],
          "x": {
           "field": "month-day",
           "type": "nominal"
          },
          "y": {
           "field": "cases",
           "type": "quantitative"
          }
         },
         "mark": {
          "align": "left",
          "angle": 270,
          "baseline": "middle",
          "binSpacing": 1,
          "dx": 8,
          "dy": 0,
          "fontSize": 8,
          "type": "text"
         },
         "title": "Orange County California COVID-19 Total Cases and Deaths",
         "transform": [
          {
           "as": [
            "variable",
            "value"
           ],
           "fold": [
            "cases",
            "deaths"
           ]
          }
         ],
         "width": 900
        }
       ]
      },
      "image/png": "[encoded data removed]",
      "text/plain": [
       "<VegaLite 3 object>\n",
       "\n",
       "If you see this message, it means the renderer has not been properly enabled\n",
       "for the frontend that you are using. For more information, see\n",
       "https://altair-viz.github.io/user_guide/troubleshooting.html\n"
      ]
     },
     "execution_count": 4,
     "metadata": {},
     "output_type": "execute_result"
    }
   ],
   "source": [
    "plot('Orange','California')[1]"
   ]
  },
  {
   "cell_type": "code",
   "execution_count": 5,
   "metadata": {},
   "outputs": [
    {
     "data": {
      "application/vnd.vegalite.v3+json": {
       "$schema": "https://vega.github.io/schema/vega-lite/v3.4.0.json",
       "config": {
        "mark": {
         "tooltip": null
        },
        "view": {
         "height": 300,
         "width": 400
        }
       },
       "data": {
        "name": "data-34a90429d8c6891b408400f7deb72417"
       },
       "datasets": {
        "data-34a90429d8c6891b408400f7deb72417": [
         {
          "cases": 1,
          "cases-daily": 0,
          "county": "Orange",
          "date": "2020-03-01",
          "deaths": 0,
          "deaths-daily": 0,
          "fips": 6059,
          "month-day": "3-01",
          "state": "California"
         },
         {
          "cases": 1,
          "cases-daily": 0,
          "county": "Orange",
          "date": "2020-03-02",
          "deaths": 0,
          "deaths-daily": 0,
          "fips": 6059,
          "month-day": "3-02",
          "state": "California"
         },
         {
          "cases": 3,
          "cases-daily": 2,
          "county": "Orange",
          "date": "2020-03-03",
          "deaths": 0,
          "deaths-daily": 0,
          "fips": 6059,
          "month-day": "3-03",
          "state": "California"
         },
         {
          "cases": 3,
          "cases-daily": 0,
          "county": "Orange",
          "date": "2020-03-04",
          "deaths": 0,
          "deaths-daily": 0,
          "fips": 6059,
          "month-day": "3-04",
          "state": "California"
         },
         {
          "cases": 3,
          "cases-daily": 0,
          "county": "Orange",
          "date": "2020-03-05",
          "deaths": 0,
          "deaths-daily": 0,
          "fips": 6059,
          "month-day": "3-05",
          "state": "California"
         },
         {
          "cases": 3,
          "cases-daily": 0,
          "county": "Orange",
          "date": "2020-03-06",
          "deaths": 0,
          "deaths-daily": 0,
          "fips": 6059,
          "month-day": "3-06",
          "state": "California"
         },
         {
          "cases": 3,
          "cases-daily": 0,
          "county": "Orange",
          "date": "2020-03-07",
          "deaths": 0,
          "deaths-daily": 0,
          "fips": 6059,
          "month-day": "3-07",
          "state": "California"
         },
         {
          "cases": 3,
          "cases-daily": 0,
          "county": "Orange",
          "date": "2020-03-08",
          "deaths": 0,
          "deaths-daily": 0,
          "fips": 6059,
          "month-day": "3-08",
          "state": "California"
         },
         {
          "cases": 5,
          "cases-daily": 2,
          "county": "Orange",
          "date": "2020-03-09",
          "deaths": 0,
          "deaths-daily": 0,
          "fips": 6059,
          "month-day": "3-09",
          "state": "California"
         },
         {
          "cases": 5,
          "cases-daily": 0,
          "county": "Orange",
          "date": "2020-03-10",
          "deaths": 0,
          "deaths-daily": 0,
          "fips": 6059,
          "month-day": "3-10",
          "state": "California"
         },
         {
          "cases": 6,
          "cases-daily": 1,
          "county": "Orange",
          "date": "2020-03-11",
          "deaths": 0,
          "deaths-daily": 0,
          "fips": 6059,
          "month-day": "3-11",
          "state": "California"
         },
         {
          "cases": 6,
          "cases-daily": 0,
          "county": "Orange",
          "date": "2020-03-12",
          "deaths": 0,
          "deaths-daily": 0,
          "fips": 6059,
          "month-day": "3-12",
          "state": "California"
         },
         {
          "cases": 13,
          "cases-daily": 7,
          "county": "Orange",
          "date": "2020-03-13",
          "deaths": 0,
          "deaths-daily": 0,
          "fips": 6059,
          "month-day": "3-13",
          "state": "California"
         },
         {
          "cases": 14,
          "cases-daily": 1,
          "county": "Orange",
          "date": "2020-03-14",
          "deaths": 0,
          "deaths-daily": 0,
          "fips": 6059,
          "month-day": "3-14",
          "state": "California"
         },
         {
          "cases": 17,
          "cases-daily": 3,
          "county": "Orange",
          "date": "2020-03-15",
          "deaths": 0,
          "deaths-daily": 0,
          "fips": 6059,
          "month-day": "3-15",
          "state": "California"
         },
         {
          "cases": 22,
          "cases-daily": 5,
          "county": "Orange",
          "date": "2020-03-16",
          "deaths": 0,
          "deaths-daily": 0,
          "fips": 6059,
          "month-day": "3-16",
          "state": "California"
         },
         {
          "cases": 29,
          "cases-daily": 7,
          "county": "Orange",
          "date": "2020-03-17",
          "deaths": 0,
          "deaths-daily": 0,
          "fips": 6059,
          "month-day": "3-17",
          "state": "California"
         },
         {
          "cases": 42,
          "cases-daily": 13,
          "county": "Orange",
          "date": "2020-03-18",
          "deaths": 0,
          "deaths-daily": 0,
          "fips": 6059,
          "month-day": "3-18",
          "state": "California"
         },
         {
          "cases": 53,
          "cases-daily": 11,
          "county": "Orange",
          "date": "2020-03-19",
          "deaths": 0,
          "deaths-daily": 0,
          "fips": 6059,
          "month-day": "3-19",
          "state": "California"
         },
         {
          "cases": 65,
          "cases-daily": 12,
          "county": "Orange",
          "date": "2020-03-20",
          "deaths": 0,
          "deaths-daily": 0,
          "fips": 6059,
          "month-day": "3-20",
          "state": "California"
         },
         {
          "cases": 78,
          "cases-daily": 13,
          "county": "Orange",
          "date": "2020-03-21",
          "deaths": 0,
          "deaths-daily": 0,
          "fips": 6059,
          "month-day": "3-21",
          "state": "California"
         },
         {
          "cases": 95,
          "cases-daily": 17,
          "county": "Orange",
          "date": "2020-03-22",
          "deaths": 0,
          "deaths-daily": 0,
          "fips": 6059,
          "month-day": "3-22",
          "state": "California"
         },
         {
          "cases": 125,
          "cases-daily": 30,
          "county": "Orange",
          "date": "2020-03-23",
          "deaths": 0,
          "deaths-daily": 0,
          "fips": 6059,
          "month-day": "3-23",
          "state": "California"
         },
         {
          "cases": 152,
          "cases-daily": 27,
          "county": "Orange",
          "date": "2020-03-24",
          "deaths": 0,
          "deaths-daily": 0,
          "fips": 6059,
          "month-day": "3-24",
          "state": "California"
         },
         {
          "cases": 187,
          "cases-daily": 35,
          "county": "Orange",
          "date": "2020-03-25",
          "deaths": 1,
          "deaths-daily": 1,
          "fips": 6059,
          "month-day": "3-25",
          "state": "California"
         },
         {
          "cases": 256,
          "cases-daily": 69,
          "county": "Orange",
          "date": "2020-03-26",
          "deaths": 1,
          "deaths-daily": 0,
          "fips": 6059,
          "month-day": "3-26",
          "state": "California"
         },
         {
          "cases": 321,
          "cases-daily": 65,
          "county": "Orange",
          "date": "2020-03-27",
          "deaths": 3,
          "deaths-daily": 2,
          "fips": 6059,
          "month-day": "3-27",
          "state": "California"
         },
         {
          "cases": 321,
          "cases-daily": 0,
          "county": "Orange",
          "date": "2020-03-28",
          "deaths": 3,
          "deaths-daily": 0,
          "fips": 6059,
          "month-day": "3-28",
          "state": "California"
         },
         {
          "cases": 431,
          "cases-daily": 110,
          "county": "Orange",
          "date": "2020-03-29",
          "deaths": 4,
          "deaths-daily": 1,
          "fips": 6059,
          "month-day": "3-29",
          "state": "California"
         },
         {
          "cases": 464,
          "cases-daily": 33,
          "county": "Orange",
          "date": "2020-03-30",
          "deaths": 4,
          "deaths-daily": 0,
          "fips": 6059,
          "month-day": "3-30",
          "state": "California"
         },
         {
          "cases": 502,
          "cases-daily": 38,
          "county": "Orange",
          "date": "2020-03-31",
          "deaths": 7,
          "deaths-daily": 3,
          "fips": 6059,
          "month-day": "3-31",
          "state": "California"
         },
         {
          "cases": 606,
          "cases-daily": 104,
          "county": "Orange",
          "date": "2020-04-01",
          "deaths": 10,
          "deaths-daily": 3,
          "fips": 6059,
          "month-day": "4-01",
          "state": "California"
         },
         {
          "cases": 656,
          "cases-daily": 50,
          "county": "Orange",
          "date": "2020-04-02",
          "deaths": 13,
          "deaths-daily": 3,
          "fips": 6059,
          "month-day": "4-02",
          "state": "California"
         },
         {
          "cases": 711,
          "cases-daily": 55,
          "county": "Orange",
          "date": "2020-04-03",
          "deaths": 13,
          "deaths-daily": 0,
          "fips": 6059,
          "month-day": "4-03",
          "state": "California"
         },
         {
          "cases": 786,
          "cases-daily": 75,
          "county": "Orange",
          "date": "2020-04-04",
          "deaths": 14,
          "deaths-daily": 1,
          "fips": 6059,
          "month-day": "4-04",
          "state": "California"
         },
         {
          "cases": 834,
          "cases-daily": 48,
          "county": "Orange",
          "date": "2020-04-05",
          "deaths": 14,
          "deaths-daily": 0,
          "fips": 6059,
          "month-day": "4-05",
          "state": "California"
         },
         {
          "cases": 882,
          "cases-daily": 48,
          "county": "Orange",
          "date": "2020-04-06",
          "deaths": 14,
          "deaths-daily": 0,
          "fips": 6059,
          "month-day": "4-06",
          "state": "California"
         },
         {
          "cases": 931,
          "cases-daily": 49,
          "county": "Orange",
          "date": "2020-04-07",
          "deaths": 15,
          "deaths-daily": 1,
          "fips": 6059,
          "month-day": "4-07",
          "state": "California"
         },
         {
          "cases": 1016,
          "cases-daily": 85,
          "county": "Orange",
          "date": "2020-04-08",
          "deaths": 17,
          "deaths-daily": 2,
          "fips": 6059,
          "month-day": "4-08",
          "state": "California"
         },
         {
          "cases": 1079,
          "cases-daily": 63,
          "county": "Orange",
          "date": "2020-04-09",
          "deaths": 17,
          "deaths-daily": 0,
          "fips": 6059,
          "month-day": "4-09",
          "state": "California"
         },
         {
          "cases": 1138,
          "cases-daily": 59,
          "county": "Orange",
          "date": "2020-04-10",
          "deaths": 17,
          "deaths-daily": 0,
          "fips": 6059,
          "month-day": "4-10",
          "state": "California"
         },
         {
          "cases": 1221,
          "cases-daily": 83,
          "county": "Orange",
          "date": "2020-04-11",
          "deaths": 18,
          "deaths-daily": 1,
          "fips": 6059,
          "month-day": "4-11",
          "state": "California"
         },
         {
          "cases": 1277,
          "cases-daily": 56,
          "county": "Orange",
          "date": "2020-04-12",
          "deaths": 19,
          "deaths-daily": 1,
          "fips": 6059,
          "month-day": "4-12",
          "state": "California"
         },
         {
          "cases": 1283,
          "cases-daily": 6,
          "county": "Orange",
          "date": "2020-04-13",
          "deaths": 19,
          "deaths-daily": 0,
          "fips": 6059,
          "month-day": "4-13",
          "state": "California"
         },
         {
          "cases": 1299,
          "cases-daily": 16,
          "county": "Orange",
          "date": "2020-04-14",
          "deaths": 19,
          "deaths-daily": 0,
          "fips": 6059,
          "month-day": "4-14",
          "state": "California"
         },
         {
          "cases": 1376,
          "cases-daily": 77,
          "county": "Orange",
          "date": "2020-04-15",
          "deaths": 22,
          "deaths-daily": 3,
          "fips": 6059,
          "month-day": "4-15",
          "state": "California"
         },
         {
          "cases": 1425,
          "cases-daily": 49,
          "county": "Orange",
          "date": "2020-04-16",
          "deaths": 25,
          "deaths-daily": 3,
          "fips": 6059,
          "month-day": "4-16",
          "state": "California"
         },
         {
          "cases": 1501,
          "cases-daily": 76,
          "county": "Orange",
          "date": "2020-04-17",
          "deaths": 28,
          "deaths-daily": 3,
          "fips": 6059,
          "month-day": "4-17",
          "state": "California"
         },
         {
          "cases": 1556,
          "cases-daily": 55,
          "county": "Orange",
          "date": "2020-04-18",
          "deaths": 32,
          "deaths-daily": 4,
          "fips": 6059,
          "month-day": "4-18",
          "state": "California"
         },
         {
          "cases": 1636,
          "cases-daily": 80,
          "county": "Orange",
          "date": "2020-04-19",
          "deaths": 32,
          "deaths-daily": 0,
          "fips": 6059,
          "month-day": "4-19",
          "state": "California"
         },
         {
          "cases": 1676,
          "cases-daily": 40,
          "county": "Orange",
          "date": "2020-04-20",
          "deaths": 33,
          "deaths-daily": 1,
          "fips": 6059,
          "month-day": "4-20",
          "state": "California"
         },
         {
          "cases": 1691,
          "cases-daily": 15,
          "county": "Orange",
          "date": "2020-04-21",
          "deaths": 33,
          "deaths-daily": 0,
          "fips": 6059,
          "month-day": "4-21",
          "state": "California"
         },
         {
          "cases": 1753,
          "cases-daily": 62,
          "county": "Orange",
          "date": "2020-04-22",
          "deaths": 34,
          "deaths-daily": 1,
          "fips": 6059,
          "month-day": "4-22",
          "state": "California"
         },
         {
          "cases": 1827,
          "cases-daily": 74,
          "county": "Orange",
          "date": "2020-04-23",
          "deaths": 36,
          "deaths-daily": 2,
          "fips": 6059,
          "month-day": "4-23",
          "state": "California"
         },
         {
          "cases": 1845,
          "cases-daily": 18,
          "county": "Orange",
          "date": "2020-04-24",
          "deaths": 36,
          "deaths-daily": 0,
          "fips": 6059,
          "month-day": "4-24",
          "state": "California"
         },
         {
          "cases": 1969,
          "cases-daily": 124,
          "county": "Orange",
          "date": "2020-04-25",
          "deaths": 38,
          "deaths-daily": 2,
          "fips": 6059,
          "month-day": "4-25",
          "state": "California"
         },
         {
          "cases": 2074,
          "cases-daily": 105,
          "county": "Orange",
          "date": "2020-04-26",
          "deaths": 39,
          "deaths-daily": 1,
          "fips": 6059,
          "month-day": "4-26",
          "state": "California"
         },
         {
          "cases": 2126,
          "cases-daily": 52,
          "county": "Orange",
          "date": "2020-04-27",
          "deaths": 40,
          "deaths-daily": 1,
          "fips": 6059,
          "month-day": "4-27",
          "state": "California"
         },
         {
          "cases": 2198,
          "cases-daily": 72,
          "county": "Orange",
          "date": "2020-04-28",
          "deaths": 42,
          "deaths-daily": 2,
          "fips": 6059,
          "month-day": "4-28",
          "state": "California"
         },
         {
          "cases": 2324,
          "cases-daily": 126,
          "county": "Orange",
          "date": "2020-04-29",
          "deaths": 44,
          "deaths-daily": 2,
          "fips": 6059,
          "month-day": "4-29",
          "state": "California"
         },
         {
          "cases": 2421,
          "cases-daily": 97,
          "county": "Orange",
          "date": "2020-04-30",
          "deaths": 45,
          "deaths-daily": 1,
          "fips": 6059,
          "month-day": "4-30",
          "state": "California"
         },
         {
          "cases": 2591,
          "cases-daily": 170,
          "county": "Orange",
          "date": "2020-05-01",
          "deaths": 50,
          "deaths-daily": 5,
          "fips": 6059,
          "month-day": "5-01",
          "state": "California"
         },
         {
          "cases": 2660,
          "cases-daily": 69,
          "county": "Orange",
          "date": "2020-05-02",
          "deaths": 52,
          "deaths-daily": 2,
          "fips": 6059,
          "month-day": "5-02",
          "state": "California"
         },
         {
          "cases": 2774,
          "cases-daily": 114,
          "county": "Orange",
          "date": "2020-05-03",
          "deaths": 52,
          "deaths-daily": 0,
          "fips": 6059,
          "month-day": "5-03",
          "state": "California"
         },
         {
          "cases": 2859,
          "cases-daily": 85,
          "county": "Orange",
          "date": "2020-05-04",
          "deaths": 57,
          "deaths-daily": 5,
          "fips": 6059,
          "month-day": "5-04",
          "state": "California"
         },
         {
          "cases": 2931,
          "cases-daily": 72,
          "county": "Orange",
          "date": "2020-05-05",
          "deaths": 61,
          "deaths-daily": 4,
          "fips": 6059,
          "month-day": "5-05",
          "state": "California"
         },
         {
          "cases": 3041,
          "cases-daily": 110,
          "county": "Orange",
          "date": "2020-05-06",
          "deaths": 65,
          "deaths-daily": 4,
          "fips": 6059,
          "month-day": "5-06",
          "state": "California"
         },
         {
          "cases": 3156,
          "cases-daily": 115,
          "county": "Orange",
          "date": "2020-05-07",
          "deaths": 66,
          "deaths-daily": 1,
          "fips": 6059,
          "month-day": "5-07",
          "state": "California"
         },
         {
          "cases": 3283,
          "cases-daily": 127,
          "county": "Orange",
          "date": "2020-05-08",
          "deaths": 71,
          "deaths-daily": 5,
          "fips": 6059,
          "month-day": "5-08",
          "state": "California"
         },
         {
          "cases": 3395,
          "cases-daily": 112,
          "county": "Orange",
          "date": "2020-05-09",
          "deaths": 74,
          "deaths-daily": 3,
          "fips": 6059,
          "month-day": "5-09",
          "state": "California"
         },
         {
          "cases": 3506,
          "cases-daily": 111,
          "county": "Orange",
          "date": "2020-05-10",
          "deaths": 76,
          "deaths-daily": 2,
          "fips": 6059,
          "month-day": "5-10",
          "state": "California"
         },
         {
          "cases": 3627,
          "cases-daily": 121,
          "county": "Orange",
          "date": "2020-05-11",
          "deaths": 76,
          "deaths-daily": 0,
          "fips": 6059,
          "month-day": "5-11",
          "state": "California"
         },
         {
          "cases": 3699,
          "cases-daily": 72,
          "county": "Orange",
          "date": "2020-05-12",
          "deaths": 78,
          "deaths-daily": 2,
          "fips": 6059,
          "month-day": "5-12",
          "state": "California"
         },
         {
          "cases": 3843,
          "cases-daily": 144,
          "county": "Orange",
          "date": "2020-05-13",
          "deaths": 80,
          "deaths-daily": 2,
          "fips": 6059,
          "month-day": "5-13",
          "state": "California"
         },
         {
          "cases": 4025,
          "cases-daily": 182,
          "county": "Orange",
          "date": "2020-05-14",
          "deaths": 80,
          "deaths-daily": 0,
          "fips": 6059,
          "month-day": "5-14",
          "state": "California"
         },
         {
          "cases": 4163,
          "cases-daily": 138,
          "county": "Orange",
          "date": "2020-05-15",
          "deaths": 84,
          "deaths-daily": 4,
          "fips": 6059,
          "month-day": "5-15",
          "state": "California"
         },
         {
          "cases": 4281,
          "cases-daily": 118,
          "county": "Orange",
          "date": "2020-05-16",
          "deaths": 86,
          "deaths-daily": 2,
          "fips": 6059,
          "month-day": "5-16",
          "state": "California"
         },
         {
          "cases": 4396,
          "cases-daily": 115,
          "county": "Orange",
          "date": "2020-05-17",
          "deaths": 88,
          "deaths-daily": 2,
          "fips": 6059,
          "month-day": "5-17",
          "state": "California"
         },
         {
          "cases": 4466,
          "cases-daily": 70,
          "county": "Orange",
          "date": "2020-05-18",
          "deaths": 88,
          "deaths-daily": 0,
          "fips": 6059,
          "month-day": "5-18",
          "state": "California"
         },
         {
          "cases": 4558,
          "cases-daily": 92,
          "county": "Orange",
          "date": "2020-05-19",
          "deaths": 88,
          "deaths-daily": 0,
          "fips": 6059,
          "month-day": "5-19",
          "state": "California"
         },
         {
          "cases": 4746,
          "cases-daily": 188,
          "county": "Orange",
          "date": "2020-05-20",
          "deaths": 98,
          "deaths-daily": 10,
          "fips": 6059,
          "month-day": "5-20",
          "state": "California"
         },
         {
          "cases": 4866,
          "cases-daily": 120,
          "county": "Orange",
          "date": "2020-05-21",
          "deaths": 112,
          "deaths-daily": 14,
          "fips": 6059,
          "month-day": "5-21",
          "state": "California"
         }
        ]
       },
       "layer": [
        {
         "encoding": {
          "color": {
           "field": "variable",
           "scale": {
            "scheme": "set2"
           },
           "type": "nominal"
          },
          "tooltip": [
           {
            "field": "cases-daily",
            "type": "quantitative"
           },
           {
            "field": "deaths-daily",
            "type": "quantitative"
           },
           {
            "field": "cases",
            "type": "quantitative"
           },
           {
            "field": "deaths",
            "type": "quantitative"
           }
          ],
          "x": {
           "field": "month-day",
           "type": "nominal"
          },
          "y": {
           "aggregate": "max",
           "field": "value",
           "type": "quantitative"
          }
         },
         "mark": "bar",
         "selection": {
          "selector003": {
           "bind": "scales",
           "encodings": [
            "x",
            "y"
           ],
           "type": "interval"
          }
         },
         "title": "Orange County California COVID-19 Daily Cases and Deaths",
         "transform": [
          {
           "as": [
            "variable",
            "value"
           ],
           "fold": [
            "cases-daily",
            "deaths-daily"
           ]
          }
         ],
         "width": 900
        },
        {
         "encoding": {
          "color": {
           "value": "black"
          },
          "text": {
           "field": "deaths-daily",
           "type": "quantitative"
          },
          "tooltip": [
           {
            "field": "cases-daily",
            "type": "quantitative"
           },
           {
            "field": "deaths-daily",
            "type": "quantitative"
           },
           {
            "field": "cases",
            "type": "quantitative"
           },
           {
            "field": "deaths",
            "type": "quantitative"
           }
          ],
          "x": {
           "field": "month-day",
           "type": "nominal"
          },
          "y": {
           "field": "deaths-daily",
           "type": "quantitative"
          }
         },
         "mark": {
          "align": "left",
          "angle": 0,
          "baseline": "middle",
          "binSpacing": 1,
          "dx": -5,
          "dy": -8,
          "fontSize": 8,
          "type": "text"
         },
         "title": "Orange County California COVID-19 Daily Cases and Deaths",
         "transform": [
          {
           "as": [
            "variable",
            "value"
           ],
           "fold": [
            "cases-daily",
            "deaths-daily"
           ]
          }
         ],
         "width": 900
        },
        {
         "encoding": {
          "color": {
           "value": "black"
          },
          "text": {
           "field": "cases-daily",
           "type": "quantitative"
          },
          "tooltip": [
           {
            "field": "cases-daily",
            "type": "quantitative"
           },
           {
            "field": "deaths-daily",
            "type": "quantitative"
           },
           {
            "field": "cases",
            "type": "quantitative"
           },
           {
            "field": "deaths",
            "type": "quantitative"
           }
          ],
          "x": {
           "field": "month-day",
           "type": "nominal"
          },
          "y": {
           "field": "cases-daily",
           "type": "quantitative"
          }
         },
         "mark": {
          "align": "left",
          "angle": 0,
          "baseline": "middle",
          "binSpacing": 1,
          "dx": -5,
          "dy": -8,
          "fontSize": 8,
          "type": "text"
         },
         "title": "Orange County California COVID-19 Daily Cases and Deaths",
         "transform": [
          {
           "as": [
            "variable",
            "value"
           ],
           "fold": [
            "cases-daily",
            "deaths-daily"
           ]
          }
         ],
         "width": 900
        }
       ]
      },
      "image/png": "[encoded data removed]",
      "text/plain": [
       "<VegaLite 3 object>\n",
       "\n",
       "If you see this message, it means the renderer has not been properly enabled\n",
       "for the frontend that you are using. For more information, see\n",
       "https://altair-viz.github.io/user_guide/troubleshooting.html\n"
      ]
     },
     "execution_count": 5,
     "metadata": {},
     "output_type": "execute_result"
    }
   ],
   "source": [
    "plot('Orange','California')[0]"
   ]
  },
  {
   "cell_type": "code",
   "execution_count": 6,
   "metadata": {
    "colab": {},
    "colab_type": "code",
    "id": "Sl4CSs_Amd5Q"
   },
   "outputs": [],
   "source": [
    "counties = [('Lane','Oregon'),('Carteret','North Carolina'),('Orange','California')]\n",
    "for county,state in counties:\n",
    "  plot(county,state)"
   ]
  },
  {
   "cell_type": "markdown",
   "metadata": {
    "colab_type": "text",
    "id": "cKT_it4rA4qC"
   },
   "source": [
    "# Testing"
   ]
  },
  {
   "cell_type": "code",
   "execution_count": null,
   "metadata": {
    "cellView": "code",
    "colab": {},
    "colab_type": "code",
    "id": "m5g2f8gbi-8u"
   },
   "outputs": [],
   "source": [
    "county = \"county\" #@param [\"county\"]\n",
    "estates=pd.read_csv('https://covidtracking.com/api/v1/states/daily.csv')"
   ]
  },
  {
   "cell_type": "code",
   "execution_count": null,
   "metadata": {
    "colab": {
     "base_uri": "https://localhost:8080/",
     "height": 103
    },
    "colab_type": "code",
    "id": "zCPmrkwcwR6x",
    "outputId": "16043bcb-51cb-49b2-aac1-a1813d39416a"
   },
   "outputs": [
    {
     "name": "stderr",
     "output_type": "stream",
     "text": [
      "/usr/local/lib/python3.6/dist-packages/pandas/core/ops/array_ops.py:253: FutureWarning: elementwise comparison failed; returning scalar instead, but in the future will perform elementwise comparison\n",
      "  res_values = method(rvalues)\n"
     ]
    },
    {
     "data": {
      "text/html": [
       "<div>\n",
       "<style scoped>\n",
       "    .dataframe tbody tr th:only-of-type {\n",
       "        vertical-align: middle;\n",
       "    }\n",
       "\n",
       "    .dataframe tbody tr th {\n",
       "        vertical-align: top;\n",
       "    }\n",
       "\n",
       "    .dataframe thead th {\n",
       "        text-align: right;\n",
       "    }\n",
       "</style>\n",
       "<table border=\"1\" class=\"dataframe\">\n",
       "  <thead>\n",
       "    <tr style=\"text-align: right;\">\n",
       "      <th></th>\n",
       "      <th>date</th>\n",
       "      <th>state</th>\n",
       "      <th>positive</th>\n",
       "      <th>negative</th>\n",
       "      <th>pending</th>\n",
       "      <th>hospitalizedCurrently</th>\n",
       "      <th>hospitalizedCumulative</th>\n",
       "      <th>inIcuCurrently</th>\n",
       "      <th>inIcuCumulative</th>\n",
       "      <th>onVentilatorCurrently</th>\n",
       "      <th>onVentilatorCumulative</th>\n",
       "      <th>recovered</th>\n",
       "      <th>dataQualityGrade</th>\n",
       "      <th>lastUpdateEt</th>\n",
       "      <th>hash</th>\n",
       "      <th>dateChecked</th>\n",
       "      <th>death</th>\n",
       "      <th>hospitalized</th>\n",
       "      <th>total</th>\n",
       "      <th>totalTestResults</th>\n",
       "      <th>posNeg</th>\n",
       "      <th>fips</th>\n",
       "      <th>deathIncrease</th>\n",
       "      <th>hospitalizedIncrease</th>\n",
       "      <th>negativeIncrease</th>\n",
       "      <th>positiveIncrease</th>\n",
       "      <th>totalTestResultsIncrease</th>\n",
       "    </tr>\n",
       "  </thead>\n",
       "  <tbody>\n",
       "  </tbody>\n",
       "</table>\n",
       "</div>"
      ],
      "text/plain": [
       "Empty DataFrame\n",
       "Columns: [date, state, positive, negative, pending, hospitalizedCurrently, hospitalizedCumulative, inIcuCurrently, inIcuCumulative, onVentilatorCurrently, onVentilatorCumulative, recovered, dataQualityGrade, lastUpdateEt, hash, dateChecked, death, hospitalized, total, totalTestResults, posNeg, fips, deathIncrease, hospitalizedIncrease, negativeIncrease, positiveIncrease, totalTestResultsIncrease]\n",
       "Index: []"
      ]
     },
     "execution_count": 95,
     "metadata": {
      "tags": []
     },
     "output_type": "execute_result"
    }
   ],
   "source": [
    "#oregon[oregon.fips=='41039'].head()"
   ]
  }
 ],
 "metadata": {
  "colab": {
   "collapsed_sections": [],
   "include_colab_link": true,
   "name": "altair.ipynb",
   "provenance": []
  },
  "kernelspec": {
   "display_name": "Python 3",
   "language": "python",
   "name": "python3"
  },
  "language_info": {
   "codemirror_mode": {
    "name": "ipython",
    "version": 3
   },
   "file_extension": ".py",
   "mimetype": "text/x-python",
   "name": "python",
   "nbconvert_exporter": "python",
   "pygments_lexer": "ipython3",
   "version": "3.7.6"
  }
 },
 "nbformat": 4,
 "nbformat_minor": 4
}
